{
 "cells": [
  {
   "cell_type": "code",
   "execution_count": null,
   "id": "492024f0",
   "metadata": {},
   "outputs": [],
   "source": [
    "import sys\n",
    "import pandas as pd\n",
    "import numpy as np\n",
    "import setuptools\n",
    "import conda\n",
    "!pip install datascience\n",
    "from datascience import *\n",
    "!pip install matplotlib\n",
    "import matplotlib\n",
    "matplotlib.use('Agg')\n",
    "%matplotlib inline\n",
    "import matplotlib.pyplot as plots\n",
    "plots.style.use('fivethirtyeight')"
   ]
  },
  {
   "cell_type": "markdown",
   "id": "a63a937a",
   "metadata": {},
   "source": [
    "# SSC/IA LOE's by proportion of case work"
   ]
  },
  {
   "cell_type": "code",
   "execution_count": 2,
   "id": "8c2afb9d",
   "metadata": {
    "scrolled": true
   },
   "outputs": [
    {
     "data": {
      "image/png": "[encoded data removed]",
      "text/plain": [
       "<Figure size 432x360 with 1 Axes>"
      ]
     },
     "metadata": {},
     "output_type": "display_data"
    }
   ],
   "source": [
    "#What are the proportions of SSC/IA or CPO mission types?\n",
    "values_1 = make_array(\"SDA\", \"Tactical ISR\", \"Space Control\", \"Launch\", \"SATCOM\", \"Innovation\", \"PNT\", \"Multi-Mission\", \"MW\", \"EM\")\n",
    "values_2 = make_array(18, 2, 0, 2, 20, 5, 4, 4, 0, 3)\n",
    "\n",
    "mission_props = Table().with_columns(\"Mission_Type\", values_1, \"Proportion\", values_2/sum(values_2))\n",
    "mission_props\n",
    "mission_props.barh(\"Mission_Type\")"
   ]
  },
  {
   "cell_type": "markdown",
   "id": "6a8847ad",
   "metadata": {},
   "source": [
    "# Data on fiscal imports/export of foreign countries w.r.t the U.S."
   ]
  },
  {
   "cell_type": "code",
   "execution_count": 3,
   "id": "04776b46",
   "metadata": {
    "collapsed": true
   },
   "outputs": [
    {
     "data": {
      "text/html": [
       "<table border=\"1\" class=\"dataframe\">\n",
       "    <thead>\n",
       "        <tr>\n",
       "            <th>year</th> <th>CTY_CODE</th> <th>CTYNAME</th> <th>IJAN</th> <th>IFEB</th> <th>IMAR</th> <th>IAPR</th> <th>IMAY</th> <th>IJUN</th> <th>IJUL</th> <th>IAUG</th> <th>ISEP</th> <th>IOCT</th> <th>INOV</th> <th>IDEC</th> <th>IYR</th> <th>EJAN</th> <th>EFEB</th> <th>EMAR</th> <th>EAPR</th> <th>EMAY</th> <th>EJUN</th> <th>EJUL</th> <th>EAUG</th> <th>ESEP</th> <th>EOCT</th> <th>ENOV</th> <th>EDEC</th> <th>EYR</th>\n",
       "        </tr>\n",
       "    </thead>\n",
       "    <tbody>\n",
       "        <tr>\n",
       "            <td>1997</td> <td>3       </td> <td>European Union</td> <td>11644.9</td> <td>11764.7</td> <td>13616.9</td> <td>13577.4</td> <td>13528.9</td> <td>13183.1</td> <td>14865.8</td> <td>12521.8</td> <td>12894.2</td> <td>15134  </td> <td>13311.3</td> <td>14853  </td> <td>160896</td> <td>10608.3</td> <td>12064.8</td> <td>13551.2</td> <td>12450.5</td> <td>12270.2</td> <td>11868.4</td> <td>10657.2</td> <td>11042  </td> <td>11833.8</td> <td>12773.9</td> <td>11994.2</td> <td>12816.9</td> <td>143931</td>\n",
       "        </tr>\n",
       "        <tr>\n",
       "            <td>1998</td> <td>3       </td> <td>European Union</td> <td>12883.4</td> <td>12954.5</td> <td>15970.6</td> <td>15144  </td> <td>14374.4</td> <td>15502.9</td> <td>16224.6</td> <td>14233.6</td> <td>14563.5</td> <td>16813.6</td> <td>15689  </td> <td>16195.7</td> <td>180550</td> <td>12269.4</td> <td>12840.7</td> <td>14479.3</td> <td>12271.3</td> <td>12951  </td> <td>12666.8</td> <td>11275.9</td> <td>12022.3</td> <td>12656.2</td> <td>13194.3</td> <td>12476.9</td> <td>12862.9</td> <td>151967</td>\n",
       "        </tr>\n",
       "        <tr>\n",
       "            <td>1999</td> <td>3       </td> <td>European Union</td> <td>13700.7</td> <td>14788.6</td> <td>17131.3</td> <td>16129.8</td> <td>16035.2</td> <td>17217.8</td> <td>17873.4</td> <td>16577  </td> <td>16117.9</td> <td>18074.2</td> <td>18522.2</td> <td>17884.8</td> <td>200053</td> <td>12507.6</td> <td>12899.7</td> <td>14465.6</td> <td>13091.2</td> <td>12931.7</td> <td>12393.7</td> <td>11484.5</td> <td>12219.1</td> <td>12426.3</td> <td>13680.9</td> <td>13081.9</td> <td>13642.6</td> <td>154825</td>\n",
       "        </tr>\n",
       "        <tr>\n",
       "            <td>2000</td> <td>3       </td> <td>European Union</td> <td>15771.3</td> <td>17227.4</td> <td>20757.7</td> <td>18285.4</td> <td>19341.8</td> <td>18583.1</td> <td>18982.7</td> <td>18894.4</td> <td>18550.5</td> <td>20953.3</td> <td>20532.8</td> <td>19020.4</td> <td>226901</td> <td>12235.6</td> <td>13586.1</td> <td>14729.9</td> <td>13860.9</td> <td>14224.1</td> <td>14220.4</td> <td>12235.6</td> <td>13858.3</td> <td>14482  </td> <td>14559.1</td> <td>14604.6</td> <td>15584.5</td> <td>168181</td>\n",
       "        </tr>\n",
       "        <tr>\n",
       "            <td>2001</td> <td>3       </td> <td>European Union</td> <td>19413.6</td> <td>18491.1</td> <td>20720.2</td> <td>19677.4</td> <td>19596.3</td> <td>18334.9</td> <td>20129  </td> <td>18010.5</td> <td>15676.7</td> <td>20810.4</td> <td>18664.4</td> <td>17043.7</td> <td>226568</td> <td>13908.7</td> <td>14794  </td> <td>15690  </td> <td>13949  </td> <td>14427.2</td> <td>13996.9</td> <td>11531.9</td> <td>12844.9</td> <td>12250.4</td> <td>13317.2</td> <td>12399.8</td> <td>12821  </td> <td>161931</td>\n",
       "        </tr>\n",
       "        <tr>\n",
       "            <td>2002</td> <td>3       </td> <td>European Union</td> <td>16444.7</td> <td>17043.8</td> <td>19295.3</td> <td>19730.8</td> <td>19423.5</td> <td>18696.7</td> <td>21471.8</td> <td>18790.5</td> <td>18190  </td> <td>21443  </td> <td>20511.7</td> <td>21271.6</td> <td>232313</td> <td>11619.6</td> <td>12381.6</td> <td>13604.1</td> <td>12360.7</td> <td>12215.8</td> <td>12146.4</td> <td>10748.3</td> <td>11975.6</td> <td>11790.4</td> <td>13258.2</td> <td>12703  </td> <td>11817.5</td> <td>146621</td>\n",
       "        </tr>\n",
       "        <tr>\n",
       "            <td>2003</td> <td>3       </td> <td>European Union</td> <td>18656  </td> <td>18766.7</td> <td>22053.6</td> <td>21144.4</td> <td>20815.2</td> <td>21285.9</td> <td>22315.9</td> <td>19278.8</td> <td>20451.9</td> <td>23100.2</td> <td>21602.3</td> <td>23570.8</td> <td>253042</td> <td>12073.1</td> <td>12338.4</td> <td>14267.9</td> <td>13214.8</td> <td>12961.3</td> <td>12935.7</td> <td>11834.3</td> <td>12200.9</td> <td>12394.1</td> <td>13911.5</td> <td>13975.7</td> <td>13062.4</td> <td>155170</td>\n",
       "        </tr>\n",
       "        <tr>\n",
       "            <td>2004</td> <td>3       </td> <td>European Union</td> <td>19117.1</td> <td>21879.6</td> <td>25653.9</td> <td>24408.4</td> <td>23337.9</td> <td>24142.1</td> <td>23572  </td> <td>22823.2</td> <td>21878  </td> <td>24537.2</td> <td>25162  </td> <td>25447.2</td> <td>281959</td> <td>12703.9</td> <td>13917.5</td> <td>16052.7</td> <td>14743.8</td> <td>14825.5</td> <td>13827.1</td> <td>12988.8</td> <td>13467  </td> <td>14077.2</td> <td>15171.8</td> <td>14301.2</td> <td>15153.1</td> <td>171230</td>\n",
       "        </tr>\n",
       "        <tr>\n",
       "            <td>2005</td> <td>3       </td> <td>European Union</td> <td>21997.6</td> <td>23647.1</td> <td>26257.6</td> <td>25706.3</td> <td>26691.3</td> <td>26425.8</td> <td>26425.8</td> <td>25534.3</td> <td>24951.4</td> <td>27799.9</td> <td>27795.4</td> <td>26395.5</td> <td>309628</td> <td>13982.1</td> <td>14893  </td> <td>16834.2</td> <td>16300.5</td> <td>16037  </td> <td>15586.7</td> <td>14272.8</td> <td>14459.9</td> <td>14684.2</td> <td>15838.5</td> <td>15978.8</td> <td>16298.2</td> <td>185166</td>\n",
       "        </tr>\n",
       "        <tr>\n",
       "            <td>2006</td> <td>3       </td> <td>European Union</td> <td>24878.4</td> <td>24114  </td> <td>29297.6</td> <td>27054.7</td> <td>29601.5</td> <td>28397.9</td> <td>28875.3</td> <td>28457.7</td> <td>25538.9</td> <td>28222.8</td> <td>28399.5</td> <td>27643.4</td> <td>330482</td> <td>15035.4</td> <td>15966.5</td> <td>18824.7</td> <td>17374  </td> <td>18145.3</td> <td>19028.5</td> <td>15865.6</td> <td>17415.4</td> <td>18274.1</td> <td>18763.9</td> <td>18577.1</td> <td>18616.4</td> <td>211887</td>\n",
       "        </tr>\n",
       "    </tbody>\n",
       "</table>\n",
       "<p>... (8218 rows omitted)</p>"
      ],
      "text/plain": [
       "year | CTY_CODE | CTYNAME        | IJAN    | IFEB    | IMAR    | IAPR    | IMAY    | IJUN    | IJUL    | IAUG    | ISEP    | IOCT    | INOV    | IDEC    | IYR    | EJAN    | EFEB    | EMAR    | EAPR    | EMAY    | EJUN    | EJUL    | EAUG    | ESEP    | EOCT    | ENOV    | EDEC    | EYR\n",
       "1997 | 3        | European Union | 11644.9 | 11764.7 | 13616.9 | 13577.4 | 13528.9 | 13183.1 | 14865.8 | 12521.8 | 12894.2 | 15134   | 13311.3 | 14853   | 160896 | 10608.3 | 12064.8 | 13551.2 | 12450.5 | 12270.2 | 11868.4 | 10657.2 | 11042   | 11833.8 | 12773.9 | 11994.2 | 12816.9 | 143931\n",
       "1998 | 3        | European Union | 12883.4 | 12954.5 | 15970.6 | 15144   | 14374.4 | 15502.9 | 16224.6 | 14233.6 | 14563.5 | 16813.6 | 15689   | 16195.7 | 180550 | 12269.4 | 12840.7 | 14479.3 | 12271.3 | 12951   | 12666.8 | 11275.9 | 12022.3 | 12656.2 | 13194.3 | 12476.9 | 12862.9 | 151967\n",
       "1999 | 3        | European Union | 13700.7 | 14788.6 | 17131.3 | 16129.8 | 16035.2 | 17217.8 | 17873.4 | 16577   | 16117.9 | 18074.2 | 18522.2 | 17884.8 | 200053 | 12507.6 | 12899.7 | 14465.6 | 13091.2 | 12931.7 | 12393.7 | 11484.5 | 12219.1 | 12426.3 | 13680.9 | 13081.9 | 13642.6 | 154825\n",
       "2000 | 3        | European Union | 15771.3 | 17227.4 | 20757.7 | 18285.4 | 19341.8 | 18583.1 | 18982.7 | 18894.4 | 18550.5 | 20953.3 | 20532.8 | 19020.4 | 226901 | 12235.6 | 13586.1 | 14729.9 | 13860.9 | 14224.1 | 14220.4 | 12235.6 | 13858.3 | 14482   | 14559.1 | 14604.6 | 15584.5 | 168181\n",
       "2001 | 3        | European Union | 19413.6 | 18491.1 | 20720.2 | 19677.4 | 19596.3 | 18334.9 | 20129   | 18010.5 | 15676.7 | 20810.4 | 18664.4 | 17043.7 | 226568 | 13908.7 | 14794   | 15690   | 13949   | 14427.2 | 13996.9 | 11531.9 | 12844.9 | 12250.4 | 13317.2 | 12399.8 | 12821   | 161931\n",
       "2002 | 3        | European Union | 16444.7 | 17043.8 | 19295.3 | 19730.8 | 19423.5 | 18696.7 | 21471.8 | 18790.5 | 18190   | 21443   | 20511.7 | 21271.6 | 232313 | 11619.6 | 12381.6 | 13604.1 | 12360.7 | 12215.8 | 12146.4 | 10748.3 | 11975.6 | 11790.4 | 13258.2 | 12703   | 11817.5 | 146621\n",
       "2003 | 3        | European Union | 18656   | 18766.7 | 22053.6 | 21144.4 | 20815.2 | 21285.9 | 22315.9 | 19278.8 | 20451.9 | 23100.2 | 21602.3 | 23570.8 | 253042 | 12073.1 | 12338.4 | 14267.9 | 13214.8 | 12961.3 | 12935.7 | 11834.3 | 12200.9 | 12394.1 | 13911.5 | 13975.7 | 13062.4 | 155170\n",
       "2004 | 3        | European Union | 19117.1 | 21879.6 | 25653.9 | 24408.4 | 23337.9 | 24142.1 | 23572   | 22823.2 | 21878   | 24537.2 | 25162   | 25447.2 | 281959 | 12703.9 | 13917.5 | 16052.7 | 14743.8 | 14825.5 | 13827.1 | 12988.8 | 13467   | 14077.2 | 15171.8 | 14301.2 | 15153.1 | 171230\n",
       "2005 | 3        | European Union | 21997.6 | 23647.1 | 26257.6 | 25706.3 | 26691.3 | 26425.8 | 26425.8 | 25534.3 | 24951.4 | 27799.9 | 27795.4 | 26395.5 | 309628 | 13982.1 | 14893   | 16834.2 | 16300.5 | 16037   | 15586.7 | 14272.8 | 14459.9 | 14684.2 | 15838.5 | 15978.8 | 16298.2 | 185166\n",
       "2006 | 3        | European Union | 24878.4 | 24114   | 29297.6 | 27054.7 | 29601.5 | 28397.9 | 28875.3 | 28457.7 | 25538.9 | 28222.8 | 28399.5 | 27643.4 | 330482 | 15035.4 | 15966.5 | 18824.7 | 17374   | 18145.3 | 19028.5 | 15865.6 | 17415.4 | 18274.1 | 18763.9 | 18577.1 | 18616.4 | 211887\n",
       "... (8218 rows omitted)"
      ]
     },
     "execution_count": 3,
     "metadata": {},
     "output_type": "execute_result"
    }
   ],
   "source": [
    "trade_data_table = Table().read_table(\"country (1).csv\")\n",
    "trade_data_table"
   ]
  },
  {
   "cell_type": "markdown",
   "id": "55ffd610",
   "metadata": {},
   "source": [
    "# Data Manipulation and Cleaning"
   ]
  },
  {
   "cell_type": "code",
   "execution_count": 4,
   "id": "e70dd723",
   "metadata": {
    "collapsed": true
   },
   "outputs": [
    {
     "data": {
      "text/html": [
       "<table border=\"1\" class=\"dataframe\">\n",
       "    <thead>\n",
       "        <tr>\n",
       "            <th>CTY_CODE</th> <th>CTYNAME</th> <th>IJAN</th> <th>IFEB</th> <th>IMAR</th> <th>IAPR</th> <th>IMAY</th> <th>IJUN</th> <th>IJUL</th> <th>IAUG</th> <th>ISEP</th> <th>IOCT</th> <th>INOV</th> <th>IDEC</th> <th>IYR</th> <th>EJAN</th> <th>EFEB</th> <th>EMAR</th> <th>EAPR</th> <th>EMAY</th> <th>EJUN</th> <th>EJUL</th> <th>EAUG</th> <th>ESEP</th> <th>EOCT</th> <th>ENOV</th> <th>EDEC</th> <th>EYR</th>\n",
       "        </tr>\n",
       "    </thead>\n",
       "    <tbody>\n",
       "        <tr>\n",
       "            <td>3       </td> <td>European Union                </td> <td>35743.2</td> <td>35763.2</td> <td>40484.6</td> <td>40448.2</td> <td>39923.5</td> <td>43065.1</td> <td>42210.6</td> <td>42263.4</td> <td>41114  </td> <td>42547.8</td> <td>44365.7</td> <td>42514.5</td> <td>490444     </td> <td>19419.5</td> <td>20107.4</td> <td>22326.1</td> <td>22358.4</td> <td>22418.1</td> <td>23180.4</td> <td>21465  </td> <td>22709  </td> <td>23215  </td> <td>26042.6</td> <td>23882.6</td> <td>24576  </td> <td>271700    </td>\n",
       "        </tr>\n",
       "        <tr>\n",
       "            <td>4       </td> <td>World, Seasonally Adjusted    </td> <td>220255 </td> <td>217978 </td> <td>233032 </td> <td>229739 </td> <td>231615 </td> <td>236299 </td> <td>233984 </td> <td>236211 </td> <td>238961 </td> <td>242159 </td> <td>252826 </td> <td>258051 </td> <td>2.83111e+06</td> <td>134910 </td> <td>130792 </td> <td>143561 </td> <td>143413 </td> <td>144803 </td> <td>145670 </td> <td>147264 </td> <td>148850 </td> <td>143884 </td> <td>156885 </td> <td>155658 </td> <td>158610 </td> <td>1.7543e+06</td>\n",
       "        </tr>\n",
       "        <tr>\n",
       "            <td>7       </td> <td>Advanced Technology Products  </td> <td>41160.2</td> <td>35809.8</td> <td>44311  </td> <td>43164.7</td> <td>43024.1</td> <td>46721.9</td> <td>44832.3</td> <td>45547.4</td> <td>50484.6</td> <td>51452.5</td> <td>52500.1</td> <td>54230.5</td> <td>553239     </td> <td>26042.1</td> <td>23037.9</td> <td>29553  </td> <td>28273.4</td> <td>27989.5</td> <td>31857.1</td> <td>30616.7</td> <td>29550.9</td> <td>30828.7</td> <td>34210.7</td> <td>30838  </td> <td>34495.5</td> <td>357293    </td>\n",
       "        </tr>\n",
       "        <tr>\n",
       "            <td>9       </td> <td>South and Central America     </td> <td>7426.61</td> <td>8140.51</td> <td>9938.17</td> <td>9886.15</td> <td>9709.81</td> <td>10194.9</td> <td>10454  </td> <td>10650.5</td> <td>11357.4</td> <td>11177.8</td> <td>10850.6</td> <td>11239.3</td> <td>121026     </td> <td>12083.7</td> <td>11270.4</td> <td>13678.7</td> <td>13011.9</td> <td>14273.7</td> <td>14521.7</td> <td>15172.1</td> <td>16013.1</td> <td>14996.6</td> <td>17087.2</td> <td>15947.3</td> <td>16786.3</td> <td>174843    </td>\n",
       "        </tr>\n",
       "        <tr>\n",
       "            <td>10      </td> <td>North America                 </td> <td>53889.5</td> <td>52569.4</td> <td>63289.1</td> <td>59656.2</td> <td>60416  </td> <td>65191.8</td> <td>61737.4</td> <td>63042.3</td> <td>61980.8</td> <td>65929  </td> <td>68433.9</td> <td>66301.1</td> <td>742436     </td> <td>40985.5</td> <td>43572.9</td> <td>51513.1</td> <td>47548.7</td> <td>48416.8</td> <td>50829.9</td> <td>49350.1</td> <td>49887.6</td> <td>47453.6</td> <td>51644.2</td> <td>51602.3</td> <td>51444.4</td> <td>584249    </td>\n",
       "        </tr>\n",
       "        <tr>\n",
       "            <td>12      </td> <td>Europe                        </td> <td>48517.6</td> <td>48153.1</td> <td>56825.1</td> <td>54209  </td> <td>54805.2</td> <td>60220.8</td> <td>57313.9</td> <td>57284.8</td> <td>55930.1</td> <td>56485.6</td> <td>61718.7</td> <td>57844.9</td> <td>669309     </td> <td>27413.4</td> <td>28109.1</td> <td>32822.9</td> <td>32367.3</td> <td>32249.6</td> <td>32024.5</td> <td>30042.2</td> <td>33184.1</td> <td>32519.5</td> <td>36701.3</td> <td>33353.8</td> <td>35177.9</td> <td>385965    </td>\n",
       "        </tr>\n",
       "        <tr>\n",
       "            <td>13      </td> <td>Africa                        </td> <td>2214.1 </td> <td>2356.8 </td> <td>3160.27</td> <td>3254.2 </td> <td>3581.43</td> <td>3174.69</td> <td>3378.04</td> <td>3372.25</td> <td>2955.96</td> <td>3433.95</td> <td>3605.45</td> <td>3121.95</td> <td>37609.1    </td> <td>1895.25</td> <td>1953.77</td> <td>2435.32</td> <td>2036.64</td> <td>2271.56</td> <td>2005.73</td> <td>2061.55</td> <td>2030.6 </td> <td>2041.6 </td> <td>2519.86</td> <td>2775.35</td> <td>2704.54</td> <td>26731.7   </td>\n",
       "        </tr>\n",
       "        <tr>\n",
       "            <td>14      </td> <td>Pacific Rim                   </td> <td>71625.2</td> <td>63181.7</td> <td>79001.2</td> <td>76272.5</td> <td>77061.7</td> <td>79130.3</td> <td>79493.1</td> <td>83584.7</td> <td>86887.2</td> <td>86729.1</td> <td>86836.3</td> <td>90431.6</td> <td>960235     </td> <td>36258  </td> <td>29931.2</td> <td>40795  </td> <td>38986.2</td> <td>38402.4</td> <td>37996  </td> <td>37319.3</td> <td>36619.5</td> <td>35402.3</td> <td>44215  </td> <td>41649.9</td> <td>40777.1</td> <td>458352    </td>\n",
       "        </tr>\n",
       "        <tr>\n",
       "            <td>15      </td> <td>World, Not Seasonally Adjusted</td> <td>204945 </td> <td>193568 </td> <td>237001 </td> <td>226718 </td> <td>230556 </td> <td>242477 </td> <td>237361 </td> <td>245277 </td> <td>244558 </td> <td>251324 </td> <td>259441 </td> <td>257886 </td> <td>2.83111e+06</td> <td>127851 </td> <td>123861 </td> <td>152434 </td> <td>143701 </td> <td>145477 </td> <td>147741 </td> <td>143771 </td> <td>147906 </td> <td>142079 </td> <td>163682 </td> <td>156286 </td> <td>159510 </td> <td>1.7543e+06</td>\n",
       "        </tr>\n",
       "        <tr>\n",
       "            <td>16      </td> <td>Asia                          </td> <td>91575.2</td> <td>80981.9</td> <td>102438 </td> <td>98311.7</td> <td>100740 </td> <td>102100 </td> <td>102961 </td> <td>109230 </td> <td>110829 </td> <td>112604 </td> <td>113246 </td> <td>117767 </td> <td>1.24278e+06</td> <td>43471.7</td> <td>36946.2</td> <td>49021.1</td> <td>46135.7</td> <td>45374.8</td> <td>45752.1</td> <td>44463.5</td> <td>44062.1</td> <td>42566.8</td> <td>52807.1</td> <td>50053  </td> <td>50840.5</td> <td>551495    </td>\n",
       "        </tr>\n",
       "    </tbody>\n",
       "</table>\n",
       "<p>... (237 rows omitted)</p>"
      ],
      "text/plain": [
       "CTY_CODE | CTYNAME                        | IJAN    | IFEB    | IMAR    | IAPR    | IMAY    | IJUN    | IJUL    | IAUG    | ISEP    | IOCT    | INOV    | IDEC    | IYR         | EJAN    | EFEB    | EMAR    | EAPR    | EMAY    | EJUN    | EJUL    | EAUG    | ESEP    | EOCT    | ENOV    | EDEC    | EYR\n",
       "3        | European Union                 | 35743.2 | 35763.2 | 40484.6 | 40448.2 | 39923.5 | 43065.1 | 42210.6 | 42263.4 | 41114   | 42547.8 | 44365.7 | 42514.5 | 490444      | 19419.5 | 20107.4 | 22326.1 | 22358.4 | 22418.1 | 23180.4 | 21465   | 22709   | 23215   | 26042.6 | 23882.6 | 24576   | 271700\n",
       "4        | World, Seasonally Adjusted     | 220255  | 217978  | 233032  | 229739  | 231615  | 236299  | 233984  | 236211  | 238961  | 242159  | 252826  | 258051  | 2.83111e+06 | 134910  | 130792  | 143561  | 143413  | 144803  | 145670  | 147264  | 148850  | 143884  | 156885  | 155658  | 158610  | 1.7543e+06\n",
       "7        | Advanced Technology Products   | 41160.2 | 35809.8 | 44311   | 43164.7 | 43024.1 | 46721.9 | 44832.3 | 45547.4 | 50484.6 | 51452.5 | 52500.1 | 54230.5 | 553239      | 26042.1 | 23037.9 | 29553   | 28273.4 | 27989.5 | 31857.1 | 30616.7 | 29550.9 | 30828.7 | 34210.7 | 30838   | 34495.5 | 357293\n",
       "9        | South and Central America      | 7426.61 | 8140.51 | 9938.17 | 9886.15 | 9709.81 | 10194.9 | 10454   | 10650.5 | 11357.4 | 11177.8 | 10850.6 | 11239.3 | 121026      | 12083.7 | 11270.4 | 13678.7 | 13011.9 | 14273.7 | 14521.7 | 15172.1 | 16013.1 | 14996.6 | 17087.2 | 15947.3 | 16786.3 | 174843\n",
       "10       | North America                  | 53889.5 | 52569.4 | 63289.1 | 59656.2 | 60416   | 65191.8 | 61737.4 | 63042.3 | 61980.8 | 65929   | 68433.9 | 66301.1 | 742436      | 40985.5 | 43572.9 | 51513.1 | 47548.7 | 48416.8 | 50829.9 | 49350.1 | 49887.6 | 47453.6 | 51644.2 | 51602.3 | 51444.4 | 584249\n",
       "12       | Europe                         | 48517.6 | 48153.1 | 56825.1 | 54209   | 54805.2 | 60220.8 | 57313.9 | 57284.8 | 55930.1 | 56485.6 | 61718.7 | 57844.9 | 669309      | 27413.4 | 28109.1 | 32822.9 | 32367.3 | 32249.6 | 32024.5 | 30042.2 | 33184.1 | 32519.5 | 36701.3 | 33353.8 | 35177.9 | 385965\n",
       "13       | Africa                         | 2214.1  | 2356.8  | 3160.27 | 3254.2  | 3581.43 | 3174.69 | 3378.04 | 3372.25 | 2955.96 | 3433.95 | 3605.45 | 3121.95 | 37609.1     | 1895.25 | 1953.77 | 2435.32 | 2036.64 | 2271.56 | 2005.73 | 2061.55 | 2030.6  | 2041.6  | 2519.86 | 2775.35 | 2704.54 | 26731.7\n",
       "14       | Pacific Rim                    | 71625.2 | 63181.7 | 79001.2 | 76272.5 | 77061.7 | 79130.3 | 79493.1 | 83584.7 | 86887.2 | 86729.1 | 86836.3 | 90431.6 | 960235      | 36258   | 29931.2 | 40795   | 38986.2 | 38402.4 | 37996   | 37319.3 | 36619.5 | 35402.3 | 44215   | 41649.9 | 40777.1 | 458352\n",
       "15       | World, Not Seasonally Adjusted | 204945  | 193568  | 237001  | 226718  | 230556  | 242477  | 237361  | 245277  | 244558  | 251324  | 259441  | 257886  | 2.83111e+06 | 127851  | 123861  | 152434  | 143701  | 145477  | 147741  | 143771  | 147906  | 142079  | 163682  | 156286  | 159510  | 1.7543e+06\n",
       "16       | Asia                           | 91575.2 | 80981.9 | 102438  | 98311.7 | 100740  | 102100  | 102961  | 109230  | 110829  | 112604  | 113246  | 117767  | 1.24278e+06 | 43471.7 | 36946.2 | 49021.1 | 46135.7 | 45374.8 | 45752.1 | 44463.5 | 44062.1 | 42566.8 | 52807.1 | 50053   | 50840.5 | 551495\n",
       "... (237 rows omitted)"
      ]
     },
     "execution_count": 4,
     "metadata": {},
     "output_type": "execute_result"
    }
   ],
   "source": [
    "by_region = trade_data_table.where(\"year\", are.equal_to(2021)).drop(\"year\")\n",
    "by_region"
   ]
  },
  {
   "cell_type": "code",
   "execution_count": 5,
   "id": "d48cd05e",
   "metadata": {
    "collapsed": true
   },
   "outputs": [
    {
     "data": {
      "text/html": [
       "<table border=\"1\" class=\"dataframe\">\n",
       "    <thead>\n",
       "        <tr>\n",
       "            <th>CTY_CODE</th> <th>CTYNAME</th> <th>IJAN</th> <th>IFEB</th> <th>IMAR</th> <th>IAPR</th> <th>IMAY</th> <th>IJUN</th> <th>IJUL</th> <th>IAUG</th> <th>ISEP</th> <th>IOCT</th> <th>INOV</th> <th>IDEC</th> <th>IYR</th> <th>EJAN</th> <th>EFEB</th> <th>EMAR</th> <th>EAPR</th> <th>EMAY</th> <th>EJUN</th> <th>EJUL</th> <th>EAUG</th> <th>ESEP</th> <th>EOCT</th> <th>ENOV</th> <th>EDEC</th> <th>EYR</th>\n",
       "        </tr>\n",
       "    </thead>\n",
       "    <tbody>\n",
       "        <tr>\n",
       "            <td>1220    </td> <td>Canada        </td> <td>24742.7</td> <td>25232.7</td> <td>29838.3</td> <td>27503.6</td> <td>29062  </td> <td>32180.9</td> <td>29833.7</td> <td>30967.2</td> <td>29943.5</td> <td>31604.6</td> <td>33828.8</td> <td>33049.4</td> <td>357788 </td> <td>21460  </td> <td>22218.1</td> <td>28077.4</td> <td>25177.3</td> <td>25455.9</td> <td>26709  </td> <td>25738.5</td> <td>25766.6</td> <td>24663.5</td> <td>27292.8</td> <td>27598.7</td> <td>27600.4</td> <td>307758 </td>\n",
       "        </tr>\n",
       "        <tr>\n",
       "            <td>4039    </td> <td>Norway        </td> <td>326.249</td> <td>578.242</td> <td>630.444</td> <td>554.608</td> <td>603.569</td> <td>582.234</td> <td>661.985</td> <td>516.169</td> <td>569.343</td> <td>542.36 </td> <td>519.023</td> <td>647.832</td> <td>6732.06</td> <td>357.168</td> <td>182.113</td> <td>274.657</td> <td>266.288</td> <td>484.449</td> <td>265.508</td> <td>257.122</td> <td>428.161</td> <td>319.589</td> <td>366.118</td> <td>334.972</td> <td>420.161</td> <td>3956.31</td>\n",
       "        </tr>\n",
       "        <tr>\n",
       "            <td>4099    </td> <td>Denmark       </td> <td>1015.83</td> <td>870.364</td> <td>987.646</td> <td>856.961</td> <td>914.99 </td> <td>1255.18</td> <td>1089.96</td> <td>1232.17</td> <td>641.934</td> <td>867.388</td> <td>1355.18</td> <td>1020.84</td> <td>12108.4</td> <td>276.516</td> <td>268.464</td> <td>282.367</td> <td>307.459</td> <td>196.188</td> <td>248.567</td> <td>360.381</td> <td>258.811</td> <td>257.774</td> <td>425.338</td> <td>422.804</td> <td>239.15 </td> <td>3543.82</td>\n",
       "        </tr>\n",
       "        <tr>\n",
       "            <td>4120    </td> <td>United Kingdom</td> <td>3919.05</td> <td>3852.02</td> <td>5081.87</td> <td>4615.2 </td> <td>4687.27</td> <td>5169.79</td> <td>4707.96</td> <td>4702.54</td> <td>4786.26</td> <td>4624.03</td> <td>4918.99</td> <td>5299.25</td> <td>56364.2</td> <td>4664.34</td> <td>4578.62</td> <td>5388.59</td> <td>5067.78</td> <td>5579.99</td> <td>5164.47</td> <td>4929.55</td> <td>5257.96</td> <td>4857.93</td> <td>5407.88</td> <td>5278.91</td> <td>5249.12</td> <td>61425.1</td>\n",
       "        </tr>\n",
       "        <tr>\n",
       "            <td>4210    </td> <td>Netherlands   </td> <td>1793.5 </td> <td>2005.26</td> <td>2492.7 </td> <td>3073.37</td> <td>2734.27</td> <td>2945.56</td> <td>3363.02</td> <td>3243.98</td> <td>3848.18</td> <td>2972.81</td> <td>3262.12</td> <td>3370.66</td> <td>35105.4</td> <td>3573.52</td> <td>4126.49</td> <td>4467.51</td> <td>4621.65</td> <td>4189.6 </td> <td>4415.25</td> <td>4388.85</td> <td>4271.59</td> <td>4226.22</td> <td>4881.67</td> <td>4763.96</td> <td>5153.8 </td> <td>53080.1</td>\n",
       "        </tr>\n",
       "        <tr>\n",
       "            <td>4231    </td> <td>Belgium       </td> <td>1709.96</td> <td>1832.04</td> <td>1845.15</td> <td>1791.83</td> <td>1602.99</td> <td>1951.57</td> <td>1814.84</td> <td>1546.93</td> <td>1646.13</td> <td>1968.81</td> <td>1763.94</td> <td>1521.87</td> <td>20996.1</td> <td>2463.84</td> <td>2807.16</td> <td>2538.74</td> <td>2547.96</td> <td>3179.47</td> <td>2838.83</td> <td>2505.57</td> <td>2873.08</td> <td>3384.22</td> <td>2993.22</td> <td>2810.07</td> <td>2778.8 </td> <td>33721  </td>\n",
       "        </tr>\n",
       "        <tr>\n",
       "            <td>4239    </td> <td>Luxembourg    </td> <td>30.3112</td> <td>43.9602</td> <td>46.4651</td> <td>49.0806</td> <td>44.5499</td> <td>54.8557</td> <td>55.2584</td> <td>49.3082</td> <td>51.8817</td> <td>40.2761</td> <td>82.0356</td> <td>44.6012</td> <td>592.584</td> <td>106.298</td> <td>52.1993</td> <td>102.013</td> <td>104.373</td> <td>137.418</td> <td>105.402</td> <td>177.469</td> <td>155.387</td> <td>132.343</td> <td>218.355</td> <td>123.212</td> <td>117.013</td> <td>1531.48</td>\n",
       "        </tr>\n",
       "        <tr>\n",
       "            <td>4279    </td> <td>France        </td> <td>3732.87</td> <td>4325.54</td> <td>4104.04</td> <td>4481.37</td> <td>3897.84</td> <td>4371.51</td> <td>4428.28</td> <td>3825.62</td> <td>4206.41</td> <td>4468.37</td> <td>4178.13</td> <td>4083.81</td> <td>50103.8</td> <td>1919.52</td> <td>2013.76</td> <td>2474.54</td> <td>2426.24</td> <td>2466.94</td> <td>2505.59</td> <td>2191.62</td> <td>2524.97</td> <td>2632.11</td> <td>3053.32</td> <td>2572.23</td> <td>3112.44</td> <td>29893.3</td>\n",
       "        </tr>\n",
       "        <tr>\n",
       "            <td>4280    </td> <td>Germany       </td> <td>10854.2</td> <td>9258.51</td> <td>11495.6</td> <td>11103.6</td> <td>11204.2</td> <td>11566.5</td> <td>11340.7</td> <td>12220.6</td> <td>11024.4</td> <td>11712.6</td> <td>11788.4</td> <td>11646.2</td> <td>135216 </td> <td>4574.8 </td> <td>5010.92</td> <td>5714.36</td> <td>5574.01</td> <td>5378.18</td> <td>5887.96</td> <td>5176.81</td> <td>5619.64</td> <td>5440.55</td> <td>6132   </td> <td>5316.39</td> <td>5506.89</td> <td>65332.5</td>\n",
       "        </tr>\n",
       "        <tr>\n",
       "            <td>4550    </td> <td>Poland        </td> <td>628.686</td> <td>648.716</td> <td>823.895</td> <td>752.136</td> <td>801.914</td> <td>842.015</td> <td>1087.07</td> <td>826.883</td> <td>778.384</td> <td>818.369</td> <td>893.752</td> <td>838.764</td> <td>9740.59</td> <td>402.98 </td> <td>429.918</td> <td>479.19 </td> <td>450.18 </td> <td>532.646</td> <td>502.901</td> <td>489.097</td> <td>440.604</td> <td>406.681</td> <td>547.582</td> <td>606.402</td> <td>554.952</td> <td>5843.13</td>\n",
       "        </tr>\n",
       "        <tr>\n",
       "            <td>4700    </td> <td>Spain         </td> <td>1210.76</td> <td>1288.01</td> <td>1507.95</td> <td>1523.9 </td> <td>1650.29</td> <td>1703.61</td> <td>1554.86</td> <td>1816.71</td> <td>1559.68</td> <td>1536.11</td> <td>1512.19</td> <td>1722.18</td> <td>18586.2</td> <td>1349.39</td> <td>1056.53</td> <td>1183.73</td> <td>1212.33</td> <td>1239.86</td> <td>1186.99</td> <td>1087.88</td> <td>1201.06</td> <td>1655.21</td> <td>1836.05</td> <td>1592.82</td> <td>1730.3 </td> <td>16332.1</td>\n",
       "        </tr>\n",
       "        <tr>\n",
       "            <td>4759    </td> <td>Italy         </td> <td>4396.7 </td> <td>4165.55</td> <td>4683   </td> <td>4965.39</td> <td>5162.59</td> <td>5877.18</td> <td>5742.98</td> <td>5310.44</td> <td>4601.57</td> <td>5338.53</td> <td>5434.78</td> <td>5272.05</td> <td>60950.8</td> <td>1746.59</td> <td>1539.73</td> <td>1809.63</td> <td>1919.03</td> <td>2136.43</td> <td>1857.45</td> <td>1708.26</td> <td>1863.2 </td> <td>1623.51</td> <td>1959.56</td> <td>1627.91</td> <td>1869.23</td> <td>21660.5</td>\n",
       "        </tr>\n",
       "        <tr>\n",
       "            <td>4850    </td> <td>Romania       </td> <td>169.84 </td> <td>196.699</td> <td>240.439</td> <td>242.73 </td> <td>269.027</td> <td>271.008</td> <td>313.026</td> <td>224.831</td> <td>265.632</td> <td>217.845</td> <td>239.531</td> <td>265.765</td> <td>2916.37</td> <td>241.606</td> <td>78.5496</td> <td>139.82 </td> <td>62.1008</td> <td>63.766 </td> <td>185.402</td> <td>62.847 </td> <td>54.4096</td> <td>179.456</td> <td>113.3  </td> <td>81.4885</td> <td>148.97 </td> <td>1411.72</td>\n",
       "        </tr>\n",
       "        <tr>\n",
       "            <td>5081    </td> <td>Israel        </td> <td>1323.88</td> <td>1261.88</td> <td>1550.99</td> <td>1466.99</td> <td>1481.46</td> <td>1794.25</td> <td>1548.81</td> <td>1674.79</td> <td>1320.54</td> <td>1604.63</td> <td>1885.25</td> <td>1732.45</td> <td>18645.9</td> <td>916.159</td> <td>861.174</td> <td>1021.09</td> <td>956.823</td> <td>1016.38</td> <td>1198.5 </td> <td>1032.25</td> <td>1307.7 </td> <td>929.625</td> <td>1290.89</td> <td>1152.71</td> <td>1178.64</td> <td>12861.9</td>\n",
       "        </tr>\n",
       "        <tr>\n",
       "            <td>5330    </td> <td>India         </td> <td>5225.15</td> <td>4503.34</td> <td>5922.76</td> <td>5977.57</td> <td>6040.3 </td> <td>5858.25</td> <td>6145.68</td> <td>6524.12</td> <td>6282.19</td> <td>7106.62</td> <td>6526.18</td> <td>7060.43</td> <td>73172.6</td> <td>2771.07</td> <td>2885.83</td> <td>3476.77</td> <td>3031.18</td> <td>3200.45</td> <td>3416.12</td> <td>3279.11</td> <td>3477.59</td> <td>3247.55</td> <td>3818.08</td> <td>3463.43</td> <td>3985   </td> <td>40052.2</td>\n",
       "        </tr>\n",
       "        <tr>\n",
       "            <td>5490    </td> <td>Thailand      </td> <td>3311.88</td> <td>3091.83</td> <td>3977.35</td> <td>3794.32</td> <td>4361.87</td> <td>4107.07</td> <td>3863.28</td> <td>4160.95</td> <td>4211.65</td> <td>4029.47</td> <td>4173.19</td> <td>4267.7 </td> <td>47350.6</td> <td>1070.21</td> <td>863.302</td> <td>1318.19</td> <td>1100.43</td> <td>1013.82</td> <td>965.749</td> <td>1061.29</td> <td>995.356</td> <td>904.484</td> <td>1152.35</td> <td>1101.77</td> <td>1105.49</td> <td>12652.4</td>\n",
       "        </tr>\n",
       "        <tr>\n",
       "            <td>5800    </td> <td>Korea, South  </td> <td>6535.38</td> <td>6193.06</td> <td>8009.35</td> <td>7899.83</td> <td>7997.2 </td> <td>8473.49</td> <td>7974.51</td> <td>8486.24</td> <td>8707.25</td> <td>7875.61</td> <td>8035.97</td> <td>8730.75</td> <td>94918.6</td> <td>5255.48</td> <td>4515.55</td> <td>5891.81</td> <td>6394.17</td> <td>5642.82</td> <td>5816.02</td> <td>5760.51</td> <td>5444.92</td> <td>5348.02</td> <td>4907.92</td> <td>5585.91</td> <td>5379.29</td> <td>65942.4</td>\n",
       "        </tr>\n",
       "        <tr>\n",
       "            <td>5880    </td> <td>Japan         </td> <td>10394.5</td> <td>9239.86</td> <td>12152.1</td> <td>12435.6</td> <td>11458.1</td> <td>11313.6</td> <td>12243.4</td> <td>12375.9</td> <td>10543.9</td> <td>10454.8</td> <td>10742.8</td> <td>11505.9</td> <td>134860 </td> <td>5934.75</td> <td>5303.22</td> <td>6158.01</td> <td>6317.72</td> <td>6382.31</td> <td>6466.15</td> <td>5836.89</td> <td>6218.69</td> <td>5908.47</td> <td>6952.22</td> <td>6597.58</td> <td>6488.68</td> <td>74564.7</td>\n",
       "        </tr>\n",
       "        <tr>\n",
       "            <td>6021    </td> <td>Australia     </td> <td>943.227</td> <td>1028.07</td> <td>887.189</td> <td>1002.2 </td> <td>904.904</td> <td>1028.31</td> <td>1016.7 </td> <td>1208.77</td> <td>1000.95</td> <td>1212.94</td> <td>1084.75</td> <td>1148.48</td> <td>12466.5</td> <td>1735.46</td> <td>1706.95</td> <td>2585   </td> <td>2225.17</td> <td>2410.42</td> <td>2215.42</td> <td>2234.58</td> <td>2354.63</td> <td>2133.01</td> <td>2514.43</td> <td>2164.74</td> <td>2174.11</td> <td>26453.9</td>\n",
       "        </tr>\n",
       "        <tr>\n",
       "            <td>6141    </td> <td>New Zealand   </td> <td>346.818</td> <td>264.071</td> <td>419.661</td> <td>360.191</td> <td>371.454</td> <td>513.048</td> <td>467.345</td> <td>453.275</td> <td>455.275</td> <td>429.035</td> <td>444.909</td> <td>423.787</td> <td>4948.87</td> <td>202.26 </td> <td>258.192</td> <td>325.525</td> <td>321.582</td> <td>336.117</td> <td>325.514</td> <td>347.133</td> <td>309.312</td> <td>311.395</td> <td>336.469</td> <td>333.144</td> <td>317.395</td> <td>3724.04</td>\n",
       "        </tr>\n",
       "    </tbody>\n",
       "</table>"
      ],
      "text/plain": [
       "<IPython.core.display.HTML object>"
      ]
     },
     "metadata": {},
     "output_type": "display_data"
    }
   ],
   "source": [
    "partner_list = make_array(\"Australia\", \"Belgium\", \"Canada\", \"Denmark\", \"France\", \"Germany\", \"India\", \"Israel\", \"Italy\", \"Japan\", \"Luxembourg\", \"Netherlands\", \"New Zealand\", \"Norway\", \"Poland\", \"Romania\", \"Korea, South\", \"Spain\", \"Thailand\", \"United Kingdom\")\n",
    "by_partner_region = by_region.where(\"CTYNAME\", are.contained_in(partner_list))\n",
    "by_partner_region.show()"
   ]
  },
  {
   "cell_type": "code",
   "execution_count": 6,
   "id": "84201657",
   "metadata": {},
   "outputs": [],
   "source": [
    "Percent_of_GDP_data = make_array(1.39, 1.4, 1.5, 2.2, 1.4, 1.07, 0.57, 1.9, 1.3, 2.2, 1.8, 1.5, 2, 5.2, 2.9, 1.3, 2.9, 1.1, 1.98, 1.4)"
   ]
  },
  {
   "cell_type": "code",
   "execution_count": 7,
   "id": "72201cf0",
   "metadata": {
    "collapsed": true
   },
   "outputs": [
    {
     "data": {
      "text/html": [
       "<table border=\"1\" class=\"dataframe\">\n",
       "    <thead>\n",
       "        <tr>\n",
       "            <th>CTYNAME</th> <th>IJAN</th> <th>IFEB</th> <th>IMAR</th> <th>IAPR</th> <th>IMAY</th> <th>IJUN</th> <th>IJUL</th> <th>IAUG</th> <th>ISEP</th> <th>IOCT</th> <th>INOV</th> <th>IDEC</th> <th>IYR</th> <th>EJAN</th> <th>EFEB</th> <th>EMAR</th> <th>EAPR</th> <th>EMAY</th> <th>EJUN</th> <th>EJUL</th> <th>EAUG</th> <th>ESEP</th> <th>EOCT</th> <th>ENOV</th> <th>EDEC</th> <th>EYR</th> <th>Mil_Budget/GDP</th>\n",
       "        </tr>\n",
       "    </thead>\n",
       "    <tbody>\n",
       "        <tr>\n",
       "            <td>Canada        </td> <td>24742.7</td> <td>25232.7</td> <td>29838.3</td> <td>27503.6</td> <td>29062  </td> <td>32180.9</td> <td>29833.7</td> <td>30967.2</td> <td>29943.5</td> <td>31604.6</td> <td>33828.8</td> <td>33049.4</td> <td>357788 </td> <td>21460  </td> <td>22218.1</td> <td>28077.4</td> <td>25177.3</td> <td>25455.9</td> <td>26709  </td> <td>25738.5</td> <td>25766.6</td> <td>24663.5</td> <td>27292.8</td> <td>27598.7</td> <td>27600.4</td> <td>307758 </td> <td>1.39          </td>\n",
       "        </tr>\n",
       "        <tr>\n",
       "            <td>Norway        </td> <td>326.249</td> <td>578.242</td> <td>630.444</td> <td>554.608</td> <td>603.569</td> <td>582.234</td> <td>661.985</td> <td>516.169</td> <td>569.343</td> <td>542.36 </td> <td>519.023</td> <td>647.832</td> <td>6732.06</td> <td>357.168</td> <td>182.113</td> <td>274.657</td> <td>266.288</td> <td>484.449</td> <td>265.508</td> <td>257.122</td> <td>428.161</td> <td>319.589</td> <td>366.118</td> <td>334.972</td> <td>420.161</td> <td>3956.31</td> <td>1.4           </td>\n",
       "        </tr>\n",
       "        <tr>\n",
       "            <td>Denmark       </td> <td>1015.83</td> <td>870.364</td> <td>987.646</td> <td>856.961</td> <td>914.99 </td> <td>1255.18</td> <td>1089.96</td> <td>1232.17</td> <td>641.934</td> <td>867.388</td> <td>1355.18</td> <td>1020.84</td> <td>12108.4</td> <td>276.516</td> <td>268.464</td> <td>282.367</td> <td>307.459</td> <td>196.188</td> <td>248.567</td> <td>360.381</td> <td>258.811</td> <td>257.774</td> <td>425.338</td> <td>422.804</td> <td>239.15 </td> <td>3543.82</td> <td>1.5           </td>\n",
       "        </tr>\n",
       "        <tr>\n",
       "            <td>United Kingdom</td> <td>3919.05</td> <td>3852.02</td> <td>5081.87</td> <td>4615.2 </td> <td>4687.27</td> <td>5169.79</td> <td>4707.96</td> <td>4702.54</td> <td>4786.26</td> <td>4624.03</td> <td>4918.99</td> <td>5299.25</td> <td>56364.2</td> <td>4664.34</td> <td>4578.62</td> <td>5388.59</td> <td>5067.78</td> <td>5579.99</td> <td>5164.47</td> <td>4929.55</td> <td>5257.96</td> <td>4857.93</td> <td>5407.88</td> <td>5278.91</td> <td>5249.12</td> <td>61425.1</td> <td>2.2           </td>\n",
       "        </tr>\n",
       "        <tr>\n",
       "            <td>Netherlands   </td> <td>1793.5 </td> <td>2005.26</td> <td>2492.7 </td> <td>3073.37</td> <td>2734.27</td> <td>2945.56</td> <td>3363.02</td> <td>3243.98</td> <td>3848.18</td> <td>2972.81</td> <td>3262.12</td> <td>3370.66</td> <td>35105.4</td> <td>3573.52</td> <td>4126.49</td> <td>4467.51</td> <td>4621.65</td> <td>4189.6 </td> <td>4415.25</td> <td>4388.85</td> <td>4271.59</td> <td>4226.22</td> <td>4881.67</td> <td>4763.96</td> <td>5153.8 </td> <td>53080.1</td> <td>1.4           </td>\n",
       "        </tr>\n",
       "        <tr>\n",
       "            <td>Belgium       </td> <td>1709.96</td> <td>1832.04</td> <td>1845.15</td> <td>1791.83</td> <td>1602.99</td> <td>1951.57</td> <td>1814.84</td> <td>1546.93</td> <td>1646.13</td> <td>1968.81</td> <td>1763.94</td> <td>1521.87</td> <td>20996.1</td> <td>2463.84</td> <td>2807.16</td> <td>2538.74</td> <td>2547.96</td> <td>3179.47</td> <td>2838.83</td> <td>2505.57</td> <td>2873.08</td> <td>3384.22</td> <td>2993.22</td> <td>2810.07</td> <td>2778.8 </td> <td>33721  </td> <td>1.07          </td>\n",
       "        </tr>\n",
       "        <tr>\n",
       "            <td>Luxembourg    </td> <td>30.3112</td> <td>43.9602</td> <td>46.4651</td> <td>49.0806</td> <td>44.5499</td> <td>54.8557</td> <td>55.2584</td> <td>49.3082</td> <td>51.8817</td> <td>40.2761</td> <td>82.0356</td> <td>44.6012</td> <td>592.584</td> <td>106.298</td> <td>52.1993</td> <td>102.013</td> <td>104.373</td> <td>137.418</td> <td>105.402</td> <td>177.469</td> <td>155.387</td> <td>132.343</td> <td>218.355</td> <td>123.212</td> <td>117.013</td> <td>1531.48</td> <td>0.57          </td>\n",
       "        </tr>\n",
       "        <tr>\n",
       "            <td>France        </td> <td>3732.87</td> <td>4325.54</td> <td>4104.04</td> <td>4481.37</td> <td>3897.84</td> <td>4371.51</td> <td>4428.28</td> <td>3825.62</td> <td>4206.41</td> <td>4468.37</td> <td>4178.13</td> <td>4083.81</td> <td>50103.8</td> <td>1919.52</td> <td>2013.76</td> <td>2474.54</td> <td>2426.24</td> <td>2466.94</td> <td>2505.59</td> <td>2191.62</td> <td>2524.97</td> <td>2632.11</td> <td>3053.32</td> <td>2572.23</td> <td>3112.44</td> <td>29893.3</td> <td>1.9           </td>\n",
       "        </tr>\n",
       "        <tr>\n",
       "            <td>Germany       </td> <td>10854.2</td> <td>9258.51</td> <td>11495.6</td> <td>11103.6</td> <td>11204.2</td> <td>11566.5</td> <td>11340.7</td> <td>12220.6</td> <td>11024.4</td> <td>11712.6</td> <td>11788.4</td> <td>11646.2</td> <td>135216 </td> <td>4574.8 </td> <td>5010.92</td> <td>5714.36</td> <td>5574.01</td> <td>5378.18</td> <td>5887.96</td> <td>5176.81</td> <td>5619.64</td> <td>5440.55</td> <td>6132   </td> <td>5316.39</td> <td>5506.89</td> <td>65332.5</td> <td>1.3           </td>\n",
       "        </tr>\n",
       "        <tr>\n",
       "            <td>Poland        </td> <td>628.686</td> <td>648.716</td> <td>823.895</td> <td>752.136</td> <td>801.914</td> <td>842.015</td> <td>1087.07</td> <td>826.883</td> <td>778.384</td> <td>818.369</td> <td>893.752</td> <td>838.764</td> <td>9740.59</td> <td>402.98 </td> <td>429.918</td> <td>479.19 </td> <td>450.18 </td> <td>532.646</td> <td>502.901</td> <td>489.097</td> <td>440.604</td> <td>406.681</td> <td>547.582</td> <td>606.402</td> <td>554.952</td> <td>5843.13</td> <td>2.2           </td>\n",
       "        </tr>\n",
       "    </tbody>\n",
       "</table>\n",
       "<p>... (10 rows omitted)</p>"
      ],
      "text/plain": [
       "CTYNAME        | IJAN    | IFEB    | IMAR    | IAPR    | IMAY    | IJUN    | IJUL    | IAUG    | ISEP    | IOCT    | INOV    | IDEC    | IYR     | EJAN    | EFEB    | EMAR    | EAPR    | EMAY    | EJUN    | EJUL    | EAUG    | ESEP    | EOCT    | ENOV    | EDEC    | EYR     | Mil_Budget/GDP\n",
       "Canada         | 24742.7 | 25232.7 | 29838.3 | 27503.6 | 29062   | 32180.9 | 29833.7 | 30967.2 | 29943.5 | 31604.6 | 33828.8 | 33049.4 | 357788  | 21460   | 22218.1 | 28077.4 | 25177.3 | 25455.9 | 26709   | 25738.5 | 25766.6 | 24663.5 | 27292.8 | 27598.7 | 27600.4 | 307758  | 1.39\n",
       "Norway         | 326.249 | 578.242 | 630.444 | 554.608 | 603.569 | 582.234 | 661.985 | 516.169 | 569.343 | 542.36  | 519.023 | 647.832 | 6732.06 | 357.168 | 182.113 | 274.657 | 266.288 | 484.449 | 265.508 | 257.122 | 428.161 | 319.589 | 366.118 | 334.972 | 420.161 | 3956.31 | 1.4\n",
       "Denmark        | 1015.83 | 870.364 | 987.646 | 856.961 | 914.99  | 1255.18 | 1089.96 | 1232.17 | 641.934 | 867.388 | 1355.18 | 1020.84 | 12108.4 | 276.516 | 268.464 | 282.367 | 307.459 | 196.188 | 248.567 | 360.381 | 258.811 | 257.774 | 425.338 | 422.804 | 239.15  | 3543.82 | 1.5\n",
       "United Kingdom | 3919.05 | 3852.02 | 5081.87 | 4615.2  | 4687.27 | 5169.79 | 4707.96 | 4702.54 | 4786.26 | 4624.03 | 4918.99 | 5299.25 | 56364.2 | 4664.34 | 4578.62 | 5388.59 | 5067.78 | 5579.99 | 5164.47 | 4929.55 | 5257.96 | 4857.93 | 5407.88 | 5278.91 | 5249.12 | 61425.1 | 2.2\n",
       "Netherlands    | 1793.5  | 2005.26 | 2492.7  | 3073.37 | 2734.27 | 2945.56 | 3363.02 | 3243.98 | 3848.18 | 2972.81 | 3262.12 | 3370.66 | 35105.4 | 3573.52 | 4126.49 | 4467.51 | 4621.65 | 4189.6  | 4415.25 | 4388.85 | 4271.59 | 4226.22 | 4881.67 | 4763.96 | 5153.8  | 53080.1 | 1.4\n",
       "Belgium        | 1709.96 | 1832.04 | 1845.15 | 1791.83 | 1602.99 | 1951.57 | 1814.84 | 1546.93 | 1646.13 | 1968.81 | 1763.94 | 1521.87 | 20996.1 | 2463.84 | 2807.16 | 2538.74 | 2547.96 | 3179.47 | 2838.83 | 2505.57 | 2873.08 | 3384.22 | 2993.22 | 2810.07 | 2778.8  | 33721   | 1.07\n",
       "Luxembourg     | 30.3112 | 43.9602 | 46.4651 | 49.0806 | 44.5499 | 54.8557 | 55.2584 | 49.3082 | 51.8817 | 40.2761 | 82.0356 | 44.6012 | 592.584 | 106.298 | 52.1993 | 102.013 | 104.373 | 137.418 | 105.402 | 177.469 | 155.387 | 132.343 | 218.355 | 123.212 | 117.013 | 1531.48 | 0.57\n",
       "France         | 3732.87 | 4325.54 | 4104.04 | 4481.37 | 3897.84 | 4371.51 | 4428.28 | 3825.62 | 4206.41 | 4468.37 | 4178.13 | 4083.81 | 50103.8 | 1919.52 | 2013.76 | 2474.54 | 2426.24 | 2466.94 | 2505.59 | 2191.62 | 2524.97 | 2632.11 | 3053.32 | 2572.23 | 3112.44 | 29893.3 | 1.9\n",
       "Germany        | 10854.2 | 9258.51 | 11495.6 | 11103.6 | 11204.2 | 11566.5 | 11340.7 | 12220.6 | 11024.4 | 11712.6 | 11788.4 | 11646.2 | 135216  | 4574.8  | 5010.92 | 5714.36 | 5574.01 | 5378.18 | 5887.96 | 5176.81 | 5619.64 | 5440.55 | 6132    | 5316.39 | 5506.89 | 65332.5 | 1.3\n",
       "Poland         | 628.686 | 648.716 | 823.895 | 752.136 | 801.914 | 842.015 | 1087.07 | 826.883 | 778.384 | 818.369 | 893.752 | 838.764 | 9740.59 | 402.98  | 429.918 | 479.19  | 450.18  | 532.646 | 502.901 | 489.097 | 440.604 | 406.681 | 547.582 | 606.402 | 554.952 | 5843.13 | 2.2\n",
       "... (10 rows omitted)"
      ]
     },
     "execution_count": 7,
     "metadata": {},
     "output_type": "execute_result"
    }
   ],
   "source": [
    "by_partner_region_v1 = by_partner_region.with_columns(\"Mil_Budget/GDP\", Percent_of_GDP_data).drop(\"CTY_CODE\")\n",
    "by_partner_region_v1"
   ]
  },
  {
   "cell_type": "code",
   "execution_count": 8,
   "id": "ca38f87d",
   "metadata": {
    "collapsed": true
   },
   "outputs": [
    {
     "data": {
      "text/html": [
       "<table border=\"1\" class=\"dataframe\">\n",
       "    <thead>\n",
       "        <tr>\n",
       "            <th>CTYNAME</th> <th>IYR</th> <th>EYR</th> <th>Mil_Budget/GDP</th>\n",
       "        </tr>\n",
       "    </thead>\n",
       "    <tbody>\n",
       "        <tr>\n",
       "            <td>Canada        </td> <td>357788 </td> <td>307758 </td> <td>1.39          </td>\n",
       "        </tr>\n",
       "        <tr>\n",
       "            <td>Norway        </td> <td>6732.06</td> <td>3956.31</td> <td>1.4           </td>\n",
       "        </tr>\n",
       "        <tr>\n",
       "            <td>Denmark       </td> <td>12108.4</td> <td>3543.82</td> <td>1.5           </td>\n",
       "        </tr>\n",
       "        <tr>\n",
       "            <td>United Kingdom</td> <td>56364.2</td> <td>61425.1</td> <td>2.2           </td>\n",
       "        </tr>\n",
       "        <tr>\n",
       "            <td>Netherlands   </td> <td>35105.4</td> <td>53080.1</td> <td>1.4           </td>\n",
       "        </tr>\n",
       "        <tr>\n",
       "            <td>Belgium       </td> <td>20996.1</td> <td>33721  </td> <td>1.07          </td>\n",
       "        </tr>\n",
       "        <tr>\n",
       "            <td>Luxembourg    </td> <td>592.584</td> <td>1531.48</td> <td>0.57          </td>\n",
       "        </tr>\n",
       "        <tr>\n",
       "            <td>France        </td> <td>50103.8</td> <td>29893.3</td> <td>1.9           </td>\n",
       "        </tr>\n",
       "        <tr>\n",
       "            <td>Germany       </td> <td>135216 </td> <td>65332.5</td> <td>1.3           </td>\n",
       "        </tr>\n",
       "        <tr>\n",
       "            <td>Poland        </td> <td>9740.59</td> <td>5843.13</td> <td>2.2           </td>\n",
       "        </tr>\n",
       "        <tr>\n",
       "            <td>Spain         </td> <td>18586.2</td> <td>16332.1</td> <td>1.8           </td>\n",
       "        </tr>\n",
       "        <tr>\n",
       "            <td>Italy         </td> <td>60950.8</td> <td>21660.5</td> <td>1.5           </td>\n",
       "        </tr>\n",
       "        <tr>\n",
       "            <td>Romania       </td> <td>2916.37</td> <td>1411.72</td> <td>2             </td>\n",
       "        </tr>\n",
       "        <tr>\n",
       "            <td>Israel        </td> <td>18645.9</td> <td>12861.9</td> <td>5.2           </td>\n",
       "        </tr>\n",
       "        <tr>\n",
       "            <td>India         </td> <td>73172.6</td> <td>40052.2</td> <td>2.9           </td>\n",
       "        </tr>\n",
       "        <tr>\n",
       "            <td>Thailand      </td> <td>47350.6</td> <td>12652.4</td> <td>1.3           </td>\n",
       "        </tr>\n",
       "        <tr>\n",
       "            <td>Korea, South  </td> <td>94918.6</td> <td>65942.4</td> <td>2.9           </td>\n",
       "        </tr>\n",
       "        <tr>\n",
       "            <td>Japan         </td> <td>134860 </td> <td>74564.7</td> <td>1.1           </td>\n",
       "        </tr>\n",
       "        <tr>\n",
       "            <td>Australia     </td> <td>12466.5</td> <td>26453.9</td> <td>1.98          </td>\n",
       "        </tr>\n",
       "        <tr>\n",
       "            <td>New Zealand   </td> <td>4948.87</td> <td>3724.04</td> <td>1.4           </td>\n",
       "        </tr>\n",
       "    </tbody>\n",
       "</table>"
      ],
      "text/plain": [
       "<IPython.core.display.HTML object>"
      ]
     },
     "metadata": {},
     "output_type": "display_data"
    }
   ],
   "source": [
    "by_partner_region_v2 = by_partner_region_v1.select(\"CTYNAME\", \"IYR\", \"EYR\", \"Mil_Budget/GDP\")\n",
    "by_partner_region_v2.show()"
   ]
  },
  {
   "cell_type": "code",
   "execution_count": 9,
   "id": "7cc4e7cc",
   "metadata": {
    "collapsed": true
   },
   "outputs": [
    {
     "data": {
      "text/html": [
       "<table border=\"1\" class=\"dataframe\">\n",
       "    <thead>\n",
       "        <tr>\n",
       "            <th>CTYNAME</th> <th>IYR</th> <th>EYR</th> <th>Mil_Budget/GDP</th> <th>SSA/SDA</th> <th>ISR</th> <th>PNT</th> <th>SATCOM</th> <th>Launch</th>\n",
       "        </tr>\n",
       "    </thead>\n",
       "    <tbody>\n",
       "        <tr>\n",
       "            <td>Canada        </td> <td>357788 </td> <td>307758 </td> <td>1.39          </td> <td>0      </td> <td>1   </td> <td>1   </td> <td>1     </td> <td>0     </td>\n",
       "        </tr>\n",
       "        <tr>\n",
       "            <td>Norway        </td> <td>6732.06</td> <td>3956.31</td> <td>1.4           </td> <td>1      </td> <td>0   </td> <td>0   </td> <td>1     </td> <td>1     </td>\n",
       "        </tr>\n",
       "        <tr>\n",
       "            <td>Denmark       </td> <td>12108.4</td> <td>3543.82</td> <td>1.5           </td> <td>1      </td> <td>0   </td> <td>0   </td> <td>0     </td> <td>0     </td>\n",
       "        </tr>\n",
       "        <tr>\n",
       "            <td>United Kingdom</td> <td>56364.2</td> <td>61425.1</td> <td>2.2           </td> <td>1      </td> <td>0   </td> <td>0   </td> <td>1     </td> <td>1     </td>\n",
       "        </tr>\n",
       "        <tr>\n",
       "            <td>Netherlands   </td> <td>35105.4</td> <td>53080.1</td> <td>1.4           </td> <td>0      </td> <td>0   </td> <td>0   </td> <td>0     </td> <td>0     </td>\n",
       "        </tr>\n",
       "        <tr>\n",
       "            <td>Belgium       </td> <td>20996.1</td> <td>33721  </td> <td>1.07          </td> <td>0      </td> <td>0   </td> <td>0   </td> <td>0     </td> <td>0     </td>\n",
       "        </tr>\n",
       "        <tr>\n",
       "            <td>Luxembourg    </td> <td>592.584</td> <td>1531.48</td> <td>0.57          </td> <td>1      </td> <td>0   </td> <td>0   </td> <td>0     </td> <td>0     </td>\n",
       "        </tr>\n",
       "        <tr>\n",
       "            <td>France        </td> <td>50103.8</td> <td>29893.3</td> <td>1.9           </td> <td>1      </td> <td>1   </td> <td>1   </td> <td>1     </td> <td>1     </td>\n",
       "        </tr>\n",
       "        <tr>\n",
       "            <td>Germany       </td> <td>135216 </td> <td>65332.5</td> <td>1.3           </td> <td>1      </td> <td>1   </td> <td>0   </td> <td>1     </td> <td>0     </td>\n",
       "        </tr>\n",
       "        <tr>\n",
       "            <td>Poland        </td> <td>9740.59</td> <td>5843.13</td> <td>2.2           </td> <td>1      </td> <td>0   </td> <td>0   </td> <td>0     </td> <td>0     </td>\n",
       "        </tr>\n",
       "        <tr>\n",
       "            <td>Spain         </td> <td>18586.2</td> <td>16332.1</td> <td>1.8           </td> <td>1      </td> <td>1   </td> <td>0   </td> <td>1     </td> <td>0     </td>\n",
       "        </tr>\n",
       "        <tr>\n",
       "            <td>Italy         </td> <td>60950.8</td> <td>21660.5</td> <td>1.5           </td> <td>0      </td> <td>0   </td> <td>0   </td> <td>1     </td> <td>1     </td>\n",
       "        </tr>\n",
       "        <tr>\n",
       "            <td>Romania       </td> <td>2916.37</td> <td>1411.72</td> <td>2             </td> <td>0      </td> <td>0   </td> <td>0   </td> <td>0     </td> <td>0     </td>\n",
       "        </tr>\n",
       "        <tr>\n",
       "            <td>Israel        </td> <td>18645.9</td> <td>12861.9</td> <td>5.2           </td> <td>0      </td> <td>1   </td> <td>0   </td> <td>1     </td> <td>1     </td>\n",
       "        </tr>\n",
       "        <tr>\n",
       "            <td>India         </td> <td>73172.6</td> <td>40052.2</td> <td>2.9           </td> <td>0      </td> <td>1   </td> <td>1   </td> <td>1     </td> <td>1     </td>\n",
       "        </tr>\n",
       "        <tr>\n",
       "            <td>Thailand      </td> <td>47350.6</td> <td>12652.4</td> <td>1.3           </td> <td>1      </td> <td>0   </td> <td>0   </td> <td>1     </td> <td>0     </td>\n",
       "        </tr>\n",
       "        <tr>\n",
       "            <td>Korea, South  </td> <td>94918.6</td> <td>65942.4</td> <td>2.9           </td> <td>0      </td> <td>0   </td> <td>0   </td> <td>1     </td> <td>1     </td>\n",
       "        </tr>\n",
       "        <tr>\n",
       "            <td>Japan         </td> <td>134860 </td> <td>74564.7</td> <td>1.1           </td> <td>0      </td> <td>0   </td> <td>1   </td> <td>1     </td> <td>1     </td>\n",
       "        </tr>\n",
       "        <tr>\n",
       "            <td>Australia     </td> <td>12466.5</td> <td>26453.9</td> <td>1.98          </td> <td>1      </td> <td>1   </td> <td>0   </td> <td>0     </td> <td>0     </td>\n",
       "        </tr>\n",
       "        <tr>\n",
       "            <td>New Zealand   </td> <td>4948.87</td> <td>3724.04</td> <td>1.4           </td> <td>0      </td> <td>0   </td> <td>0   </td> <td>0     </td> <td>0     </td>\n",
       "        </tr>\n",
       "    </tbody>\n",
       "</table>"
      ],
      "text/plain": [
       "<IPython.core.display.HTML object>"
      ]
     },
     "metadata": {},
     "output_type": "display_data"
    }
   ],
   "source": [
    "#All table data is as of the year 2021. Import/Export data are denoted in millions of USD.\n",
    "#Sapce capability arrays contain two values. A \"0\" indicates that a capability is not indigenous to a country... \n",
    "#... where as a \"1\" indicates that a capability is indigenous to a country.\n",
    "\n",
    "SSD_array = make_array(0,1,1,1,0,0,1,1,1,1,1,0,0,0,0,1,0,0,1,0)\n",
    "ISR_array = make_array(1,0,0,0,0,0,0,1,1,0,1,0,0,1,1,0,0,0,1,0)\n",
    "PNT_array = make_array(1,0,0,0,0,0,0,1,0,0,0,0,0,0,1,0,0,1,0,0)\n",
    "SATCOM_array = make_array(1,1,0,1,0,0,0,1,1,0,1,1,0,1,1,1,1,1,0,0)\n",
    "LAUNCH_array = make_array(0,1,0,1,0,0,0,1,0,0,0,1,0,1,1,0,1,1,0,0)\n",
    "\n",
    "by_partner_region_v3 = by_partner_region_v2.with_columns(\"SSA/SDA\", SSD_array, \"ISR\", ISR_array, \"PNT\", PNT_array, \"SATCOM\", SATCOM_array, \"Launch\", LAUNCH_array)\n",
    "by_partner_region_v3.show()"
   ]
  },
  {
   "cell_type": "code",
   "execution_count": 10,
   "id": "b18a69b0",
   "metadata": {
    "collapsed": true
   },
   "outputs": [
    {
     "data": {
      "text/plain": [
       "3"
      ]
     },
     "execution_count": 10,
     "metadata": {},
     "output_type": "execute_result"
    }
   ],
   "source": [
    "by_partner_region_v3.take(0).drop(\"IYR\", \"EYR\", \"CTYNAME\", \"Mil_Budget/GDP\").apply(np.count_nonzero).item(0)"
   ]
  },
  {
   "cell_type": "code",
   "execution_count": 11,
   "id": "a0c10f44",
   "metadata": {
    "collapsed": true
   },
   "outputs": [
    {
     "data": {
      "text/plain": [
       "array([ 0.6,  0.6,  0.2,  0.6,  0. ,  0. ,  0.2,  1. ,  0.6,  0.2,  0.6,\n",
       "        0.4,  0. ,  0.6,  0.8,  0.4,  0.4,  0.6,  0.4,  0. ])"
      ]
     },
     "execution_count": 11,
     "metadata": {},
     "output_type": "execute_result"
    }
   ],
   "source": [
    "#Building a function/sequence to compute the statistic: the proportion of indigenous space capabilities possessed by a country\n",
    "cap_props = make_array()\n",
    "\n",
    "for i in np.arange(by_partner_region_v3.num_rows):\n",
    "    count = by_partner_region_v3.take(i).drop(\"IYR\", \"EYR\", \"CTYNAME\", \"Mil_Budget/GDP\").apply(np.count_nonzero).item(0)\n",
    "    cap_props = np.append(cap_props, count/5)\n",
    "    \n",
    "cap_props"
   ]
  },
  {
   "cell_type": "code",
   "execution_count": 12,
   "id": "44a5268a",
   "metadata": {
    "collapsed": true
   },
   "outputs": [
    {
     "data": {
      "text/html": [
       "<table border=\"1\" class=\"dataframe\">\n",
       "    <thead>\n",
       "        <tr>\n",
       "            <th>CTYNAME</th> <th>IYR</th> <th>EYR</th> <th>Mil_Budget/GDP</th> <th>SSA/SDA</th> <th>ISR</th> <th>PNT</th> <th>SATCOM</th> <th>Launch</th> <th>Capability_Prop</th>\n",
       "        </tr>\n",
       "    </thead>\n",
       "    <tbody>\n",
       "        <tr>\n",
       "            <td>Australia     </td> <td>12466.5</td> <td>26453.9</td> <td>1.98          </td> <td>1      </td> <td>1   </td> <td>0   </td> <td>0     </td> <td>0     </td> <td>0.4            </td>\n",
       "        </tr>\n",
       "        <tr>\n",
       "            <td>Belgium       </td> <td>20996.1</td> <td>33721  </td> <td>1.07          </td> <td>0      </td> <td>0   </td> <td>0   </td> <td>0     </td> <td>0     </td> <td>0              </td>\n",
       "        </tr>\n",
       "        <tr>\n",
       "            <td>Canada        </td> <td>357788 </td> <td>307758 </td> <td>1.39          </td> <td>0      </td> <td>1   </td> <td>1   </td> <td>1     </td> <td>0     </td> <td>0.6            </td>\n",
       "        </tr>\n",
       "        <tr>\n",
       "            <td>Denmark       </td> <td>12108.4</td> <td>3543.82</td> <td>1.5           </td> <td>1      </td> <td>0   </td> <td>0   </td> <td>0     </td> <td>0     </td> <td>0.2            </td>\n",
       "        </tr>\n",
       "        <tr>\n",
       "            <td>France        </td> <td>50103.8</td> <td>29893.3</td> <td>1.9           </td> <td>1      </td> <td>1   </td> <td>1   </td> <td>1     </td> <td>1     </td> <td>1              </td>\n",
       "        </tr>\n",
       "        <tr>\n",
       "            <td>Germany       </td> <td>135216 </td> <td>65332.5</td> <td>1.3           </td> <td>1      </td> <td>1   </td> <td>0   </td> <td>1     </td> <td>0     </td> <td>0.6            </td>\n",
       "        </tr>\n",
       "        <tr>\n",
       "            <td>India         </td> <td>73172.6</td> <td>40052.2</td> <td>2.9           </td> <td>0      </td> <td>1   </td> <td>1   </td> <td>1     </td> <td>1     </td> <td>0.8            </td>\n",
       "        </tr>\n",
       "        <tr>\n",
       "            <td>Israel        </td> <td>18645.9</td> <td>12861.9</td> <td>5.2           </td> <td>0      </td> <td>1   </td> <td>0   </td> <td>1     </td> <td>1     </td> <td>0.6            </td>\n",
       "        </tr>\n",
       "        <tr>\n",
       "            <td>Italy         </td> <td>60950.8</td> <td>21660.5</td> <td>1.5           </td> <td>0      </td> <td>0   </td> <td>0   </td> <td>1     </td> <td>1     </td> <td>0.4            </td>\n",
       "        </tr>\n",
       "        <tr>\n",
       "            <td>Japan         </td> <td>134860 </td> <td>74564.7</td> <td>1.1           </td> <td>0      </td> <td>0   </td> <td>1   </td> <td>1     </td> <td>1     </td> <td>0.6            </td>\n",
       "        </tr>\n",
       "        <tr>\n",
       "            <td>Korea, South  </td> <td>94918.6</td> <td>65942.4</td> <td>2.9           </td> <td>0      </td> <td>0   </td> <td>0   </td> <td>1     </td> <td>1     </td> <td>0.4            </td>\n",
       "        </tr>\n",
       "        <tr>\n",
       "            <td>Luxembourg    </td> <td>592.584</td> <td>1531.48</td> <td>0.57          </td> <td>1      </td> <td>0   </td> <td>0   </td> <td>0     </td> <td>0     </td> <td>0.2            </td>\n",
       "        </tr>\n",
       "        <tr>\n",
       "            <td>Netherlands   </td> <td>35105.4</td> <td>53080.1</td> <td>1.4           </td> <td>0      </td> <td>0   </td> <td>0   </td> <td>0     </td> <td>0     </td> <td>0              </td>\n",
       "        </tr>\n",
       "        <tr>\n",
       "            <td>New Zealand   </td> <td>4948.87</td> <td>3724.04</td> <td>1.4           </td> <td>0      </td> <td>0   </td> <td>0   </td> <td>0     </td> <td>0     </td> <td>0              </td>\n",
       "        </tr>\n",
       "        <tr>\n",
       "            <td>Norway        </td> <td>6732.06</td> <td>3956.31</td> <td>1.4           </td> <td>1      </td> <td>0   </td> <td>0   </td> <td>1     </td> <td>1     </td> <td>0.6            </td>\n",
       "        </tr>\n",
       "        <tr>\n",
       "            <td>Poland        </td> <td>9740.59</td> <td>5843.13</td> <td>2.2           </td> <td>1      </td> <td>0   </td> <td>0   </td> <td>0     </td> <td>0     </td> <td>0.2            </td>\n",
       "        </tr>\n",
       "        <tr>\n",
       "            <td>Romania       </td> <td>2916.37</td> <td>1411.72</td> <td>2             </td> <td>0      </td> <td>0   </td> <td>0   </td> <td>0     </td> <td>0     </td> <td>0              </td>\n",
       "        </tr>\n",
       "        <tr>\n",
       "            <td>Spain         </td> <td>18586.2</td> <td>16332.1</td> <td>1.8           </td> <td>1      </td> <td>1   </td> <td>0   </td> <td>1     </td> <td>0     </td> <td>0.6            </td>\n",
       "        </tr>\n",
       "        <tr>\n",
       "            <td>Thailand      </td> <td>47350.6</td> <td>12652.4</td> <td>1.3           </td> <td>1      </td> <td>0   </td> <td>0   </td> <td>1     </td> <td>0     </td> <td>0.4            </td>\n",
       "        </tr>\n",
       "        <tr>\n",
       "            <td>United Kingdom</td> <td>56364.2</td> <td>61425.1</td> <td>2.2           </td> <td>1      </td> <td>0   </td> <td>0   </td> <td>1     </td> <td>1     </td> <td>0.6            </td>\n",
       "        </tr>\n",
       "    </tbody>\n",
       "</table>"
      ],
      "text/plain": [
       "<IPython.core.display.HTML object>"
      ]
     },
     "metadata": {},
     "output_type": "display_data"
    }
   ],
   "source": [
    "by_partner_region_v4 = by_partner_region_v3.with_columns(\"Capability_Prop\", cap_props).sort(\"CTYNAME\")\n",
    "cty_names = by_partner_region_v4.column(\"CTYNAME\")\n",
    "by_partner_region_v4.show()"
   ]
  },
  {
   "cell_type": "markdown",
   "id": "03b9c4eb",
   "metadata": {},
   "source": [
    "## Some basic correlation analysis"
   ]
  },
  {
   "cell_type": "code",
   "execution_count": 13,
   "id": "1836ae91",
   "metadata": {},
   "outputs": [],
   "source": [
    "#Creating tier-based visualization by grouping countries according to their Capability_Prop rating \n",
    "\n",
    "tiered_table = by_partner_region_v4.select(\"CTYNAME\", \"Capability_Prop\").group(\"Capability_Prop\")\n",
    "tiered_table\n",
    "\n",
    "#Tiers\n",
    "\n",
    "def tier_getter(value):\n",
    "    return by_partner_region_v4.where(\"Capability_Prop\", are.equal_to(value)).column(\"CTYNAME\")\n",
    "\n",
    "tier_1 = tier_getter(1)\n",
    "tier_2 = tier_getter(0.8)\n",
    "tier_3 = tier_getter(0.6)\n",
    "tier_4 = tier_getter(0.4)\n",
    "tier_5 = tier_getter(0.2)\n",
    "tier_6 = tier_getter(0)"
   ]
  },
  {
   "cell_type": "code",
   "execution_count": 14,
   "id": "5a81d5e0",
   "metadata": {},
   "outputs": [
    {
     "data": {
      "image/png": "[encoded data removed]",
      "text/plain": [
       "<Figure size 432x288 with 1 Axes>"
      ]
     },
     "metadata": {},
     "output_type": "display_data"
    }
   ],
   "source": [
    "tiered_table.barh(\"Capability_Prop\")"
   ]
  },
  {
   "cell_type": "code",
   "execution_count": 15,
   "id": "d5b3156e",
   "metadata": {},
   "outputs": [
    {
     "data": {
      "image/png": "[encoded data removed]",
      "text/plain": [
       "<Figure size 360x360 with 1 Axes>"
      ]
     },
     "metadata": {},
     "output_type": "display_data"
    }
   ],
   "source": [
    "by_partner_region_v4.scatter(\"Mil_Budget/GDP\", \"Capability_Prop\")"
   ]
  },
  {
   "cell_type": "code",
   "execution_count": 16,
   "id": "2e8f137a",
   "metadata": {
    "collapsed": true
   },
   "outputs": [
    {
     "data": {
      "text/plain": [
       "0.30161658668277014"
      ]
     },
     "execution_count": 16,
     "metadata": {},
     "output_type": "execute_result"
    }
   ],
   "source": [
    "#Basic regression data\n",
    "\n",
    "def standard_units(values):\n",
    "    return ((values - np.mean(values))/np.std(values))\n",
    "\n",
    "regression_data_table = Table().with_columns(\"CP_SU\", standard_units(by_partner_region_v4.column(\"Capability_Prop\")),\n",
    "                                            \n",
    "                                             \"MB_SU\", standard_units(by_partner_region_v4.column(\"Mil_Budget/GDP\")))\n",
    "\n",
    "                                             \n",
    "\n",
    "r_table = regression_data_table.with_columns(\"Products\", regression_data_table.column(0)*regression_data_table.column(1))\n",
    "\n",
    "regression_coefficient = np.mean(r_table.column(2))\n",
    "regression_coefficient"
   ]
  },
  {
   "cell_type": "markdown",
   "id": "4593859c",
   "metadata": {},
   "source": [
    "## Some new data to clean and be joined with existing working tables"
   ]
  },
  {
   "cell_type": "code",
   "execution_count": 4,
   "id": "9915034e",
   "metadata": {
    "collapsed": true
   },
   "outputs": [
    {
     "data": {
      "text/html": [
       "<table border=\"1\" class=\"dataframe\">\n",
       "    <thead>\n",
       "        <tr>\n",
       "            <th>OBJECT_ID</th> <th>OBJECT_NAME</th> <th>NORAD_CAT_ID</th> <th>COUNTRY</th> <th>PERIOD</th> <th>INCLINATION</th> <th>APOGEE</th> <th>PERIGEE</th> <th>RCS_SIZE</th> <th>RCSVALUE</th> <th>LAUNCH</th> <th>COMMENT</th>\n",
       "        </tr>\n",
       "    </thead>\n",
       "    <tbody>\n",
       "        <tr>\n",
       "            <td>1998-067TP</td> <td>ISS DEB            </td> <td>52952       </td> <td>CIS    </td> <td>92.87 </td> <td>51.64      </td> <td>419   </td> <td>411    </td> <td>nan     </td> <td>0       </td> <td>1998-11-20</td> <td>nan                </td>\n",
       "        </tr>\n",
       "        <tr>\n",
       "            <td>2022-074H </td> <td>OBJECT H           </td> <td>52951       </td> <td>US     </td> <td>94.52 </td> <td>44.99      </td> <td>498   </td> <td>493    </td> <td>nan     </td> <td>0       </td> <td>2022-07-02</td> <td>nan                </td>\n",
       "        </tr>\n",
       "        <tr>\n",
       "            <td>2022-074G </td> <td>OBJECT G           </td> <td>52950       </td> <td>US     </td> <td>94.52 </td> <td>45         </td> <td>498   </td> <td>493    </td> <td>nan     </td> <td>0       </td> <td>2022-07-02</td> <td>nan                </td>\n",
       "        </tr>\n",
       "        <tr>\n",
       "            <td>2022-074F </td> <td>OBJECT F           </td> <td>52949       </td> <td>US     </td> <td>94.52 </td> <td>44.99      </td> <td>499   </td> <td>492    </td> <td>nan     </td> <td>0       </td> <td>2022-07-02</td> <td>nan                </td>\n",
       "        </tr>\n",
       "        <tr>\n",
       "            <td>2022-074E </td> <td>OBJECT E           </td> <td>52948       </td> <td>US     </td> <td>94.47 </td> <td>44.98      </td> <td>497   </td> <td>489    </td> <td>nan     </td> <td>0       </td> <td>2022-07-02</td> <td>nan                </td>\n",
       "        </tr>\n",
       "        <tr>\n",
       "            <td>2022-074D </td> <td>SLIGHTSHOT1        </td> <td>52947       </td> <td>US     </td> <td>94.5  </td> <td>44.99      </td> <td>497   </td> <td>491    </td> <td>nan     </td> <td>0       </td> <td>2022-07-02</td> <td>nan                </td>\n",
       "        </tr>\n",
       "        <tr>\n",
       "            <td>2022-074C </td> <td>OBJECT C           </td> <td>52946       </td> <td>US     </td> <td>93.84 </td> <td>44.99      </td> <td>495   </td> <td>430    </td> <td>nan     </td> <td>0       </td> <td>2022-07-02</td> <td>nan                </td>\n",
       "        </tr>\n",
       "        <tr>\n",
       "            <td>2022-074B </td> <td>OBJECT B           </td> <td>52945       </td> <td>US     </td> <td>94.53 </td> <td>44.99      </td> <td>499   </td> <td>493    </td> <td>nan     </td> <td>0       </td> <td>2022-07-02</td> <td>nan                </td>\n",
       "        </tr>\n",
       "        <tr>\n",
       "            <td>2022-074A </td> <td>RECURVE            </td> <td>52944       </td> <td>US     </td> <td>94.54 </td> <td>45         </td> <td>499   </td> <td>493    </td> <td>nan     </td> <td>0       </td> <td>2022-07-02</td> <td>nan                </td>\n",
       "        </tr>\n",
       "        <tr>\n",
       "            <td>2022-073D </td> <td>ATLAS 5 CENTAUR DEB</td> <td>52943       </td> <td>US     </td> <td>nan   </td> <td>nan        </td> <td>nan   </td> <td>nan    </td> <td>nan     </td> <td>0       </td> <td>2022-07-01</td> <td>NO INITIAL ELEMENTS</td>\n",
       "        </tr>\n",
       "    </tbody>\n",
       "</table>\n",
       "<p>... (25605 rows omitted)</p>"
      ],
      "text/plain": [
       "OBJECT_ID  | OBJECT_NAME         | NORAD_CAT_ID | COUNTRY | PERIOD | INCLINATION | APOGEE | PERIGEE | RCS_SIZE | RCSVALUE | LAUNCH     | COMMENT\n",
       "1998-067TP | ISS DEB             | 52952        | CIS     | 92.87  | 51.64       | 419    | 411     | nan      | 0        | 1998-11-20 | nan\n",
       "2022-074H  | OBJECT H            | 52951        | US      | 94.52  | 44.99       | 498    | 493     | nan      | 0        | 2022-07-02 | nan\n",
       "2022-074G  | OBJECT G            | 52950        | US      | 94.52  | 45          | 498    | 493     | nan      | 0        | 2022-07-02 | nan\n",
       "2022-074F  | OBJECT F            | 52949        | US      | 94.52  | 44.99       | 499    | 492     | nan      | 0        | 2022-07-02 | nan\n",
       "2022-074E  | OBJECT E            | 52948        | US      | 94.47  | 44.98       | 497    | 489     | nan      | 0        | 2022-07-02 | nan\n",
       "2022-074D  | SLIGHTSHOT1         | 52947        | US      | 94.5   | 44.99       | 497    | 491     | nan      | 0        | 2022-07-02 | nan\n",
       "2022-074C  | OBJECT C            | 52946        | US      | 93.84  | 44.99       | 495    | 430     | nan      | 0        | 2022-07-02 | nan\n",
       "2022-074B  | OBJECT B            | 52945        | US      | 94.53  | 44.99       | 499    | 493     | nan      | 0        | 2022-07-02 | nan\n",
       "2022-074A  | RECURVE             | 52944        | US      | 94.54  | 45          | 499    | 493     | nan      | 0        | 2022-07-02 | nan\n",
       "2022-073D  | ATLAS 5 CENTAUR DEB | 52943        | US      | nan    | nan         | nan    | nan     | nan      | 0        | 2022-07-01 | NO INITIAL ELEMENTS\n",
       "... (25605 rows omitted)"
      ]
     },
     "execution_count": 4,
     "metadata": {},
     "output_type": "execute_result"
    }
   ],
   "source": [
    "space_track = Table().read_table(\"space_track.csv\")\n",
    "\n",
    "space_track"
   ]
  },
  {
   "cell_type": "code",
   "execution_count": 18,
   "id": "4ce7e422",
   "metadata": {},
   "outputs": [
    {
     "data": {
      "text/plain": [
       "1998"
      ]
     },
     "execution_count": 18,
     "metadata": {},
     "output_type": "execute_result"
    }
   ],
   "source": [
    "#EDA and useful functions\n",
    "\n",
    "int(np.array((space_track.row(0).item(10)).split(\"-\")).item(0))"
   ]
  },
  {
   "cell_type": "code",
   "execution_count": 5,
   "id": "822741ae",
   "metadata": {
    "collapsed": true
   },
   "outputs": [
    {
     "data": {
      "text/html": [
       "<table border=\"1\" class=\"dataframe\">\n",
       "    <thead>\n",
       "        <tr>\n",
       "            <th>OBJECT_ID</th> <th>OBJECT_NAME</th> <th>NORAD_CAT_ID</th> <th>COUNTRY</th> <th>PERIOD</th> <th>INCLINATION</th> <th>APOGEE</th> <th>PERIGEE</th> <th>RCS_SIZE</th> <th>RCSVALUE</th> <th>COMMENT</th> <th>LAUNCH</th>\n",
       "        </tr>\n",
       "    </thead>\n",
       "    <tbody>\n",
       "        <tr>\n",
       "            <td>1998-067TP</td> <td>ISS DEB            </td> <td>52952       </td> <td>CIS    </td> <td>92.87 </td> <td>51.64      </td> <td>419   </td> <td>411    </td> <td>nan     </td> <td>0       </td> <td>nan                </td> <td>1998  </td>\n",
       "        </tr>\n",
       "        <tr>\n",
       "            <td>2022-074H </td> <td>OBJECT H           </td> <td>52951       </td> <td>US     </td> <td>94.52 </td> <td>44.99      </td> <td>498   </td> <td>493    </td> <td>nan     </td> <td>0       </td> <td>nan                </td> <td>2022  </td>\n",
       "        </tr>\n",
       "        <tr>\n",
       "            <td>2022-074G </td> <td>OBJECT G           </td> <td>52950       </td> <td>US     </td> <td>94.52 </td> <td>45         </td> <td>498   </td> <td>493    </td> <td>nan     </td> <td>0       </td> <td>nan                </td> <td>2022  </td>\n",
       "        </tr>\n",
       "        <tr>\n",
       "            <td>2022-074F </td> <td>OBJECT F           </td> <td>52949       </td> <td>US     </td> <td>94.52 </td> <td>44.99      </td> <td>499   </td> <td>492    </td> <td>nan     </td> <td>0       </td> <td>nan                </td> <td>2022  </td>\n",
       "        </tr>\n",
       "        <tr>\n",
       "            <td>2022-074E </td> <td>OBJECT E           </td> <td>52948       </td> <td>US     </td> <td>94.47 </td> <td>44.98      </td> <td>497   </td> <td>489    </td> <td>nan     </td> <td>0       </td> <td>nan                </td> <td>2022  </td>\n",
       "        </tr>\n",
       "        <tr>\n",
       "            <td>2022-074D </td> <td>SLIGHTSHOT1        </td> <td>52947       </td> <td>US     </td> <td>94.5  </td> <td>44.99      </td> <td>497   </td> <td>491    </td> <td>nan     </td> <td>0       </td> <td>nan                </td> <td>2022  </td>\n",
       "        </tr>\n",
       "        <tr>\n",
       "            <td>2022-074C </td> <td>OBJECT C           </td> <td>52946       </td> <td>US     </td> <td>93.84 </td> <td>44.99      </td> <td>495   </td> <td>430    </td> <td>nan     </td> <td>0       </td> <td>nan                </td> <td>2022  </td>\n",
       "        </tr>\n",
       "        <tr>\n",
       "            <td>2022-074B </td> <td>OBJECT B           </td> <td>52945       </td> <td>US     </td> <td>94.53 </td> <td>44.99      </td> <td>499   </td> <td>493    </td> <td>nan     </td> <td>0       </td> <td>nan                </td> <td>2022  </td>\n",
       "        </tr>\n",
       "        <tr>\n",
       "            <td>2022-074A </td> <td>RECURVE            </td> <td>52944       </td> <td>US     </td> <td>94.54 </td> <td>45         </td> <td>499   </td> <td>493    </td> <td>nan     </td> <td>0       </td> <td>nan                </td> <td>2022  </td>\n",
       "        </tr>\n",
       "        <tr>\n",
       "            <td>2022-073D </td> <td>ATLAS 5 CENTAUR DEB</td> <td>52943       </td> <td>US     </td> <td>nan   </td> <td>nan        </td> <td>nan   </td> <td>nan    </td> <td>nan     </td> <td>0       </td> <td>NO INITIAL ELEMENTS</td> <td>2022  </td>\n",
       "        </tr>\n",
       "    </tbody>\n",
       "</table>\n",
       "<p>... (25605 rows omitted)</p>"
      ],
      "text/plain": [
       "<IPython.core.display.HTML object>"
      ]
     },
     "metadata": {},
     "output_type": "display_data"
    }
   ],
   "source": [
    "years = make_array()\n",
    "\n",
    "for i in np.arange(space_track.num_rows):\n",
    "    yr = int(np.array((space_track.row(i).item(10)).split(\"-\")).item(0))\n",
    "    years = np.append(years, yr)\n",
    "    \n",
    "space_tracker = space_track.drop(\"LAUNCH\").with_columns(\"LAUNCH\", years)\n",
    "space_tracker.show(10)"
   ]
  },
  {
   "cell_type": "code",
   "execution_count": 7,
   "id": "1b5d1d0d",
   "metadata": {},
   "outputs": [],
   "source": [
    "hist_table = space_tracker.select(\"OBJECT_NAME\", \"COUNTRY\").group(\"COUNTRY\")"
   ]
  },
  {
   "cell_type": "code",
   "execution_count": 8,
   "id": "171512ec",
   "metadata": {
    "collapsed": true
   },
   "outputs": [
    {
     "data": {
      "text/html": [
       "<table border=\"1\" class=\"dataframe\">\n",
       "    <thead>\n",
       "        <tr>\n",
       "            <th>COUNTRY</th> <th>count</th>\n",
       "        </tr>\n",
       "    </thead>\n",
       "    <tbody>\n",
       "        <tr>\n",
       "            <td>AB     </td> <td>14   </td>\n",
       "        </tr>\n",
       "        <tr>\n",
       "            <td>AC     </td> <td>8    </td>\n",
       "        </tr>\n",
       "        <tr>\n",
       "            <td>AGO    </td> <td>1    </td>\n",
       "        </tr>\n",
       "        <tr>\n",
       "            <td>ALG    </td> <td>6    </td>\n",
       "        </tr>\n",
       "        <tr>\n",
       "            <td>ARGN   </td> <td>49   </td>\n",
       "        </tr>\n",
       "        <tr>\n",
       "            <td>ASRA   </td> <td>3    </td>\n",
       "        </tr>\n",
       "        <tr>\n",
       "            <td>AUS    </td> <td>31   </td>\n",
       "        </tr>\n",
       "        <tr>\n",
       "            <td>AZER   </td> <td>3    </td>\n",
       "        </tr>\n",
       "        <tr>\n",
       "            <td>BEL    </td> <td>6    </td>\n",
       "        </tr>\n",
       "        <tr>\n",
       "            <td>BELA   </td> <td>2    </td>\n",
       "        </tr>\n",
       "    </tbody>\n",
       "</table>\n",
       "<p>... (92 rows omitted)</p>"
      ],
      "text/plain": [
       "<IPython.core.display.HTML object>"
      ]
     },
     "metadata": {},
     "output_type": "display_data"
    }
   ],
   "source": [
    "hist_table.show(10)"
   ]
  },
  {
   "cell_type": "markdown",
   "id": "6b365a98",
   "metadata": {},
   "source": [
    "## Some new data to clean and be joined with existing working tables"
   ]
  },
  {
   "cell_type": "code",
   "execution_count": 10,
   "id": "ff54e9f8",
   "metadata": {
    "scrolled": true
   },
   "outputs": [
    {
     "data": {
      "text/html": [
       "<table border=\"1\" class=\"dataframe\">\n",
       "    <thead>\n",
       "        <tr>\n",
       "            <th>COUNTRY</th> <th>SPADOC_CD</th> <th>ORBITAL_TBA</th> <th>ORBITAL_PAYLOAD_COUNT</th> <th>ORBITAL_ROCKET_BODY_COUNT</th> <th>ORBITAL_DEBRIS_COUNT</th> <th>ORBITAL_TOTAL_COUNT</th> <th>DECAYED_PAYLOAD_COUNT</th> <th>DECAYED_ROCKET_BODY_COUNT</th> <th>DECAYED_DEBRIS_COUNT</th> <th>DECAYED_TOTAL_COUNT</th> <th>COUNTRY_TOTAL</th>\n",
       "        </tr>\n",
       "    </thead>\n",
       "    <tbody>\n",
       "        <tr>\n",
       "            <td>ARAB SATELLITE COMMUNICATIONS ORGANIZATION</td> <td>AB       </td> <td>0          </td> <td>14                   </td> <td>0                        </td> <td>0                   </td> <td>14                 </td> <td>1                    </td> <td>0                        </td> <td>0                   </td> <td>1                  </td> <td>15           </td>\n",
       "        </tr>\n",
       "        <tr>\n",
       "            <td>ASIASAT CORP                              </td> <td>AC       </td> <td>0          </td> <td>8                    </td> <td>0                        </td> <td>0                   </td> <td>8                  </td> <td>0                    </td> <td>0                        </td> <td>0                   </td> <td>0                  </td> <td>8            </td>\n",
       "        </tr>\n",
       "        <tr>\n",
       "            <td>REPUBLIC OF ANGOLA                        </td> <td>AGO      </td> <td>0          </td> <td>1                    </td> <td>0                        </td> <td>0                   </td> <td>1                  </td> <td>0                    </td> <td>0                        </td> <td>0                   </td> <td>0                  </td> <td>1            </td>\n",
       "        </tr>\n",
       "        <tr>\n",
       "            <td>ALGERIA                                   </td> <td>ALG      </td> <td>0          </td> <td>6                    </td> <td>0                        </td> <td>0                   </td> <td>6                  </td> <td>0                    </td> <td>0                        </td> <td>0                   </td> <td>0                  </td> <td>6            </td>\n",
       "        </tr>\n",
       "        <tr>\n",
       "            <td>ARGENTINA                                 </td> <td>ARGN     </td> <td>0          </td> <td>48                   </td> <td>0                        </td> <td>1                   </td> <td>49                 </td> <td>2                    </td> <td>0                        </td> <td>0                   </td> <td>2                  </td> <td>51           </td>\n",
       "        </tr>\n",
       "    </tbody>\n",
       "</table>\n",
       "<p>... (107 rows omitted)</p>"
      ],
      "text/plain": [
       "<IPython.core.display.HTML object>"
      ]
     },
     "metadata": {},
     "output_type": "display_data"
    }
   ],
   "source": [
    "box_score = Table().read_table(\"boxscore.csv\")\n",
    "box_score.show(5)"
   ]
  },
  {
   "cell_type": "code",
   "execution_count": 23,
   "id": "6367ac6c",
   "metadata": {
    "collapsed": true
   },
   "outputs": [
    {
     "data": {
      "text/html": [
       "<table border=\"1\" class=\"dataframe\">\n",
       "    <thead>\n",
       "        <tr>\n",
       "            <th>SPADOC_CD</th> <th>ORBITAL_TBA</th> <th>ORBITAL_PAYLOAD_COUNT</th> <th>ORBITAL_ROCKET_BODY_COUNT</th> <th>ORBITAL_DEBRIS_COUNT</th> <th>ORBITAL_TOTAL_COUNT</th> <th>DECAYED_PAYLOAD_COUNT</th> <th>DECAYED_ROCKET_BODY_COUNT</th> <th>DECAYED_DEBRIS_COUNT</th> <th>DECAYED_TOTAL_COUNT</th> <th>COUNTRY_TOTAL</th> <th>CTYNAME</th>\n",
       "        </tr>\n",
       "    </thead>\n",
       "    <tbody>\n",
       "        <tr>\n",
       "            <td>AUS      </td> <td>0          </td> <td>29                   </td> <td>2                        </td> <td>0                   </td> <td>31                 </td> <td>6                    </td> <td>0                        </td> <td>0                   </td> <td>6                  </td> <td>37           </td> <td>Australia     </td>\n",
       "        </tr>\n",
       "        <tr>\n",
       "            <td>BEL      </td> <td>0          </td> <td>6                    </td> <td>0                        </td> <td>0                   </td> <td>6                  </td> <td>1                    </td> <td>0                        </td> <td>0                   </td> <td>1                  </td> <td>7            </td> <td>Belgium       </td>\n",
       "        </tr>\n",
       "        <tr>\n",
       "            <td>CA       </td> <td>0          </td> <td>76                   </td> <td>0                        </td> <td>5                   </td> <td>81                 </td> <td>4                    </td> <td>0                        </td> <td>2                   </td> <td>6                  </td> <td>87           </td> <td>Canada        </td>\n",
       "        </tr>\n",
       "        <tr>\n",
       "            <td>DEN      </td> <td>0          </td> <td>10                   </td> <td>0                        </td> <td>0                   </td> <td>10                 </td> <td>3                    </td> <td>0                        </td> <td>0                   </td> <td>3                  </td> <td>13           </td> <td>Denmark       </td>\n",
       "        </tr>\n",
       "        <tr>\n",
       "            <td>FR       </td> <td>0          </td> <td>82                   </td> <td>166                      </td> <td>351                 </td> <td>599                </td> <td>11                   </td> <td>82                       </td> <td>669                 </td> <td>762                </td> <td>1361         </td> <td>France        </td>\n",
       "        </tr>\n",
       "        <tr>\n",
       "            <td>GER      </td> <td>0          </td> <td>86                   </td> <td>0                        </td> <td>1                   </td> <td>87                 </td> <td>17                   </td> <td>0                        </td> <td>1                   </td> <td>18                 </td> <td>105          </td> <td>Germany       </td>\n",
       "        </tr>\n",
       "        <tr>\n",
       "            <td>IND      </td> <td>0          </td> <td>108                  </td> <td>40                       </td> <td>73                  </td> <td>221                </td> <td>13                   </td> <td>25                       </td> <td>449                 </td> <td>487                </td> <td>708          </td> <td>India         </td>\n",
       "        </tr>\n",
       "        <tr>\n",
       "            <td>ISRA     </td> <td>0          </td> <td>22                   </td> <td>0                        </td> <td>0                   </td> <td>22                 </td> <td>6                    </td> <td>9                        </td> <td>1                   </td> <td>16                 </td> <td>38           </td> <td>Israel        </td>\n",
       "        </tr>\n",
       "        <tr>\n",
       "            <td>IT       </td> <td>0          </td> <td>40                   </td> <td>2                        </td> <td>0                   </td> <td>42                 </td> <td>13                   </td> <td>0                        </td> <td>2                   </td> <td>15                 </td> <td>57           </td> <td>Italy         </td>\n",
       "        </tr>\n",
       "        <tr>\n",
       "            <td>JPN      </td> <td>3          </td> <td>205                  </td> <td>62                       </td> <td>47                  </td> <td>317                </td> <td>73                   </td> <td>69                       </td> <td>276                 </td> <td>418                </td> <td>735          </td> <td>Japan         </td>\n",
       "        </tr>\n",
       "        <tr>\n",
       "            <td>LUXE     </td> <td>0          </td> <td>13                   </td> <td>0                        </td> <td>0                   </td> <td>13                 </td> <td>1                    </td> <td>0                        </td> <td>0                   </td> <td>1                  </td> <td>14           </td> <td>Luxembourg    </td>\n",
       "        </tr>\n",
       "        <tr>\n",
       "            <td>NETH     </td> <td>0          </td> <td>12                   </td> <td>0                        </td> <td>0                   </td> <td>12                 </td> <td>1                    </td> <td>0                        </td> <td>0                   </td> <td>1                  </td> <td>13           </td> <td>Netherlands   </td>\n",
       "        </tr>\n",
       "        <tr>\n",
       "            <td>NOR      </td> <td>0          </td> <td>14                   </td> <td>0                        </td> <td>0                   </td> <td>14                 </td> <td>0                    </td> <td>0                        </td> <td>0                   </td> <td>0                  </td> <td>14           </td> <td>Norway        </td>\n",
       "        </tr>\n",
       "        <tr>\n",
       "            <td>NZ       </td> <td>0          </td> <td>20                   </td> <td>0                        </td> <td>0                   </td> <td>20                 </td> <td>1                    </td> <td>0                        </td> <td>0                   </td> <td>1                  </td> <td>21           </td> <td>New Zealand   </td>\n",
       "        </tr>\n",
       "        <tr>\n",
       "            <td>POL      </td> <td>0          </td> <td>10                   </td> <td>0                        </td> <td>0                   </td> <td>10                 </td> <td>4                    </td> <td>0                        </td> <td>0                   </td> <td>4                  </td> <td>14           </td> <td>Poland        </td>\n",
       "        </tr>\n",
       "        <tr>\n",
       "            <td>ROM      </td> <td>0          </td> <td>0                    </td> <td>0                        </td> <td>0                   </td> <td>0                  </td> <td>1                    </td> <td>0                        </td> <td>0                   </td> <td>1                  </td> <td>1            </td> <td>Romania       </td>\n",
       "        </tr>\n",
       "        <tr>\n",
       "            <td>SKOR     </td> <td>0          </td> <td>33                   </td> <td>2                        </td> <td>0                   </td> <td>35                 </td> <td>5                    </td> <td>0                        </td> <td>0                   </td> <td>5                  </td> <td>40           </td> <td>Korea, South  </td>\n",
       "        </tr>\n",
       "        <tr>\n",
       "            <td>SPN      </td> <td>0          </td> <td>44                   </td> <td>0                        </td> <td>0                   </td> <td>44                 </td> <td>4                    </td> <td>0                        </td> <td>0                   </td> <td>4                  </td> <td>48           </td> <td>Spain         </td>\n",
       "        </tr>\n",
       "        <tr>\n",
       "            <td>THAI     </td> <td>0          </td> <td>13                   </td> <td>0                        </td> <td>0                   </td> <td>13                 </td> <td>0                    </td> <td>0                        </td> <td>0                   </td> <td>0                  </td> <td>13           </td> <td>Thailand      </td>\n",
       "        </tr>\n",
       "        <tr>\n",
       "            <td>UK       </td> <td>0          </td> <td>480                  </td> <td>1                        </td> <td>0                   </td> <td>481                </td> <td>15                   </td> <td>0                        </td> <td>5                   </td> <td>20                 </td> <td>501          </td> <td>United Kingdom</td>\n",
       "        </tr>\n",
       "    </tbody>\n",
       "</table>"
      ],
      "text/plain": [
       "<IPython.core.display.HTML object>"
      ]
     },
     "metadata": {},
     "output_type": "display_data"
    }
   ],
   "source": [
    "partner_list_2 = make_array(\"AUSTRALIA\", \"BELGIUM\", \"CANADA\", \"DENMARK\", \"FRANCE\", \"GERMANY\", \"INDIA\", \"ISRAEL\", \"ITALY\", \"JAPAN\", \"LUXEMBOURG\", \"NETHERLANDS\", \"NORWAY\", \"NEW ZEALAND\", \"POLAND\", \"ROMANIA\", \"SOUTH KOREA\", \"SPAIN\", \"THAILAND\", \"UNITED KINGDOM\")\n",
    "cty_names_2 = make_array('Australia', 'Belgium', 'Canada', 'Denmark', 'France', 'Germany',\n",
    "       'India', 'Israel', 'Italy', 'Japan', 'Luxembourg', 'Netherlands',\n",
    "       'Norway', 'New Zealand', 'Poland', 'Romania', 'Korea, South',\n",
    "       'Spain', 'Thailand', 'United Kingdom')\n",
    "\n",
    "box_scores = box_score.where(\"COUNTRY\", are.contained_in(partner_list_2)).drop(\"COUNTRY\").with_columns(\"CTYNAME\", cty_names_2)\n",
    "box_scores.show()\n",
    "join_table = box_scores.select(\"CTYNAME\", \"ORBITAL_TOTAL_COUNT\", \"ORBITAL_PAYLOAD_COUNT\", \"ORBITAL_ROCKET_BODY_COUNT\", \"ORBITAL_DEBRIS_COUNT\")"
   ]
  },
  {
   "cell_type": "markdown",
   "id": "1d9d7ef2",
   "metadata": {},
   "source": [
    "## Some joins and EDA: building up to developing a metric for aggregating and weighting some of the observed space-faring attributes of partner nations."
   ]
  },
  {
   "cell_type": "code",
   "execution_count": 24,
   "id": "967c7715",
   "metadata": {},
   "outputs": [
    {
     "data": {
      "text/html": [
       "<table border=\"1\" class=\"dataframe\">\n",
       "    <thead>\n",
       "        <tr>\n",
       "            <th>CTYNAME</th> <th>IYR</th> <th>EYR</th> <th>Mil_Budget/GDP</th> <th>SSA/SDA</th> <th>ISR</th> <th>PNT</th> <th>SATCOM</th> <th>Launch</th> <th>Capability_Prop</th> <th>ORBITAL_TOTAL_COUNT</th> <th>ORBITAL_PAYLOAD_COUNT</th> <th>ORBITAL_ROCKET_BODY_COUNT</th> <th>ORBITAL_DEBRIS_COUNT</th>\n",
       "        </tr>\n",
       "    </thead>\n",
       "    <tbody>\n",
       "        <tr>\n",
       "            <td>Australia     </td> <td>12466.5</td> <td>26453.9</td> <td>1.98          </td> <td>1      </td> <td>1   </td> <td>0   </td> <td>0     </td> <td>0     </td> <td>0.4            </td> <td>31                 </td> <td>29                   </td> <td>2                        </td> <td>0                   </td>\n",
       "        </tr>\n",
       "        <tr>\n",
       "            <td>Belgium       </td> <td>20996.1</td> <td>33721  </td> <td>1.07          </td> <td>0      </td> <td>0   </td> <td>0   </td> <td>0     </td> <td>0     </td> <td>0              </td> <td>6                  </td> <td>6                    </td> <td>0                        </td> <td>0                   </td>\n",
       "        </tr>\n",
       "        <tr>\n",
       "            <td>Canada        </td> <td>357788 </td> <td>307758 </td> <td>1.39          </td> <td>0      </td> <td>1   </td> <td>1   </td> <td>1     </td> <td>0     </td> <td>0.6            </td> <td>81                 </td> <td>76                   </td> <td>0                        </td> <td>5                   </td>\n",
       "        </tr>\n",
       "        <tr>\n",
       "            <td>Denmark       </td> <td>12108.4</td> <td>3543.82</td> <td>1.5           </td> <td>1      </td> <td>0   </td> <td>0   </td> <td>0     </td> <td>0     </td> <td>0.2            </td> <td>10                 </td> <td>10                   </td> <td>0                        </td> <td>0                   </td>\n",
       "        </tr>\n",
       "        <tr>\n",
       "            <td>France        </td> <td>50103.8</td> <td>29893.3</td> <td>1.9           </td> <td>1      </td> <td>1   </td> <td>1   </td> <td>1     </td> <td>1     </td> <td>1              </td> <td>599                </td> <td>82                   </td> <td>166                      </td> <td>351                 </td>\n",
       "        </tr>\n",
       "        <tr>\n",
       "            <td>Germany       </td> <td>135216 </td> <td>65332.5</td> <td>1.3           </td> <td>1      </td> <td>1   </td> <td>0   </td> <td>1     </td> <td>0     </td> <td>0.6            </td> <td>87                 </td> <td>86                   </td> <td>0                        </td> <td>1                   </td>\n",
       "        </tr>\n",
       "        <tr>\n",
       "            <td>India         </td> <td>73172.6</td> <td>40052.2</td> <td>2.9           </td> <td>0      </td> <td>1   </td> <td>1   </td> <td>1     </td> <td>1     </td> <td>0.8            </td> <td>221                </td> <td>108                  </td> <td>40                       </td> <td>73                  </td>\n",
       "        </tr>\n",
       "        <tr>\n",
       "            <td>Israel        </td> <td>18645.9</td> <td>12861.9</td> <td>5.2           </td> <td>0      </td> <td>1   </td> <td>0   </td> <td>1     </td> <td>1     </td> <td>0.6            </td> <td>22                 </td> <td>22                   </td> <td>0                        </td> <td>0                   </td>\n",
       "        </tr>\n",
       "        <tr>\n",
       "            <td>Italy         </td> <td>60950.8</td> <td>21660.5</td> <td>1.5           </td> <td>0      </td> <td>0   </td> <td>0   </td> <td>1     </td> <td>1     </td> <td>0.4            </td> <td>42                 </td> <td>40                   </td> <td>2                        </td> <td>0                   </td>\n",
       "        </tr>\n",
       "        <tr>\n",
       "            <td>Japan         </td> <td>134860 </td> <td>74564.7</td> <td>1.1           </td> <td>0      </td> <td>0   </td> <td>1   </td> <td>1     </td> <td>1     </td> <td>0.6            </td> <td>317                </td> <td>205                  </td> <td>62                       </td> <td>47                  </td>\n",
       "        </tr>\n",
       "        <tr>\n",
       "            <td>Korea, South  </td> <td>94918.6</td> <td>65942.4</td> <td>2.9           </td> <td>0      </td> <td>0   </td> <td>0   </td> <td>1     </td> <td>1     </td> <td>0.4            </td> <td>35                 </td> <td>33                   </td> <td>2                        </td> <td>0                   </td>\n",
       "        </tr>\n",
       "        <tr>\n",
       "            <td>Luxembourg    </td> <td>592.584</td> <td>1531.48</td> <td>0.57          </td> <td>1      </td> <td>0   </td> <td>0   </td> <td>0     </td> <td>0     </td> <td>0.2            </td> <td>13                 </td> <td>13                   </td> <td>0                        </td> <td>0                   </td>\n",
       "        </tr>\n",
       "        <tr>\n",
       "            <td>Netherlands   </td> <td>35105.4</td> <td>53080.1</td> <td>1.4           </td> <td>0      </td> <td>0   </td> <td>0   </td> <td>0     </td> <td>0     </td> <td>0              </td> <td>12                 </td> <td>12                   </td> <td>0                        </td> <td>0                   </td>\n",
       "        </tr>\n",
       "        <tr>\n",
       "            <td>New Zealand   </td> <td>4948.87</td> <td>3724.04</td> <td>1.4           </td> <td>0      </td> <td>0   </td> <td>0   </td> <td>0     </td> <td>0     </td> <td>0              </td> <td>20                 </td> <td>20                   </td> <td>0                        </td> <td>0                   </td>\n",
       "        </tr>\n",
       "        <tr>\n",
       "            <td>Norway        </td> <td>6732.06</td> <td>3956.31</td> <td>1.4           </td> <td>1      </td> <td>0   </td> <td>0   </td> <td>1     </td> <td>1     </td> <td>0.6            </td> <td>14                 </td> <td>14                   </td> <td>0                        </td> <td>0                   </td>\n",
       "        </tr>\n",
       "        <tr>\n",
       "            <td>Poland        </td> <td>9740.59</td> <td>5843.13</td> <td>2.2           </td> <td>1      </td> <td>0   </td> <td>0   </td> <td>0     </td> <td>0     </td> <td>0.2            </td> <td>10                 </td> <td>10                   </td> <td>0                        </td> <td>0                   </td>\n",
       "        </tr>\n",
       "        <tr>\n",
       "            <td>Romania       </td> <td>2916.37</td> <td>1411.72</td> <td>2             </td> <td>0      </td> <td>0   </td> <td>0   </td> <td>0     </td> <td>0     </td> <td>0              </td> <td>0                  </td> <td>0                    </td> <td>0                        </td> <td>0                   </td>\n",
       "        </tr>\n",
       "        <tr>\n",
       "            <td>Spain         </td> <td>18586.2</td> <td>16332.1</td> <td>1.8           </td> <td>1      </td> <td>1   </td> <td>0   </td> <td>1     </td> <td>0     </td> <td>0.6            </td> <td>44                 </td> <td>44                   </td> <td>0                        </td> <td>0                   </td>\n",
       "        </tr>\n",
       "        <tr>\n",
       "            <td>Thailand      </td> <td>47350.6</td> <td>12652.4</td> <td>1.3           </td> <td>1      </td> <td>0   </td> <td>0   </td> <td>1     </td> <td>0     </td> <td>0.4            </td> <td>13                 </td> <td>13                   </td> <td>0                        </td> <td>0                   </td>\n",
       "        </tr>\n",
       "        <tr>\n",
       "            <td>United Kingdom</td> <td>56364.2</td> <td>61425.1</td> <td>2.2           </td> <td>1      </td> <td>0   </td> <td>0   </td> <td>1     </td> <td>1     </td> <td>0.6            </td> <td>481                </td> <td>480                  </td> <td>1                        </td> <td>0                   </td>\n",
       "        </tr>\n",
       "    </tbody>\n",
       "</table>"
      ],
      "text/plain": [
       "<IPython.core.display.HTML object>"
      ]
     },
     "metadata": {},
     "output_type": "display_data"
    }
   ],
   "source": [
    "data_table = by_partner_region_v4.join(\"CTYNAME\", join_table)\n",
    "data_table.show()"
   ]
  },
  {
   "cell_type": "code",
   "execution_count": 25,
   "id": "9783a653",
   "metadata": {
    "collapsed": true
   },
   "outputs": [
    {
     "data": {
      "text/html": [
       "<table border=\"1\" class=\"dataframe\">\n",
       "    <thead>\n",
       "        <tr>\n",
       "            <th>Capability_Prop</th> <th>ORBITAL_PAYLOAD_COUNT mean</th>\n",
       "        </tr>\n",
       "    </thead>\n",
       "    <tbody>\n",
       "        <tr>\n",
       "            <td>0              </td> <td>9.5                       </td>\n",
       "        </tr>\n",
       "        <tr>\n",
       "            <td>0.2            </td> <td>11                        </td>\n",
       "        </tr>\n",
       "        <tr>\n",
       "            <td>0.4            </td> <td>28.75                     </td>\n",
       "        </tr>\n",
       "        <tr>\n",
       "            <td>0.6            </td> <td>132.429                   </td>\n",
       "        </tr>\n",
       "        <tr>\n",
       "            <td>0.8            </td> <td>108                       </td>\n",
       "        </tr>\n",
       "        <tr>\n",
       "            <td>1              </td> <td>82                        </td>\n",
       "        </tr>\n",
       "    </tbody>\n",
       "</table>"
      ],
      "text/plain": [
       "Capability_Prop | ORBITAL_PAYLOAD_COUNT mean\n",
       "0               | 9.5\n",
       "0.2             | 11\n",
       "0.4             | 28.75\n",
       "0.6             | 132.429\n",
       "0.8             | 108\n",
       "1               | 82"
      ]
     },
     "execution_count": 25,
     "metadata": {},
     "output_type": "execute_result"
    }
   ],
   "source": [
    "#Lets compare tiers 1-6 to their average orbital payload count:\n",
    "\n",
    "artifact_1 = data_table.select(\"Capability_Prop\", \"ORBITAL_PAYLOAD_COUNT\").group(\"Capability_Prop\", np.mean)\n",
    "artifact_1"
   ]
  },
  {
   "cell_type": "code",
   "execution_count": 26,
   "id": "bd0a4e30",
   "metadata": {
    "collapsed": true
   },
   "outputs": [
    {
     "data": {
      "text/html": [
       "<table border=\"1\" class=\"dataframe\">\n",
       "    <thead>\n",
       "        <tr>\n",
       "            <th>Ave Orbital Payload Count</th> <th>Tier</th>\n",
       "        </tr>\n",
       "    </thead>\n",
       "    <tbody>\n",
       "        <tr>\n",
       "            <td>9.5                      </td> <td>6   </td>\n",
       "        </tr>\n",
       "        <tr>\n",
       "            <td>11                       </td> <td>5   </td>\n",
       "        </tr>\n",
       "        <tr>\n",
       "            <td>28.75                    </td> <td>4   </td>\n",
       "        </tr>\n",
       "        <tr>\n",
       "            <td>132.429                  </td> <td>3   </td>\n",
       "        </tr>\n",
       "        <tr>\n",
       "            <td>108                      </td> <td>2   </td>\n",
       "        </tr>\n",
       "        <tr>\n",
       "            <td>82                       </td> <td>1   </td>\n",
       "        </tr>\n",
       "    </tbody>\n",
       "</table>"
      ],
      "text/plain": [
       "Ave Orbital Payload Count | Tier\n",
       "9.5                       | 6\n",
       "11                        | 5\n",
       "28.75                     | 4\n",
       "132.429                   | 3\n",
       "108                       | 2\n",
       "82                        | 1"
      ]
     },
     "execution_count": 26,
     "metadata": {},
     "output_type": "execute_result"
    }
   ],
   "source": [
    "artifact_v1 = artifact_1.drop(\"Capability_Prop\").with_columns(\"Tier\", make_array(6,5,4,3,2,1)).relabel(\"ORBITAL_PAYLOAD_COUNT mean\", \"Ave Orbital Payload Count\")\n",
    "artifact_v1"
   ]
  },
  {
   "cell_type": "code",
   "execution_count": 27,
   "id": "0287d8a7",
   "metadata": {
    "collapsed": true
   },
   "outputs": [
    {
     "data": {
      "image/png": "[encoded data removed]",
      "text/plain": [
       "<Figure size 432x288 with 1 Axes>"
      ]
     },
     "metadata": {},
     "output_type": "display_data"
    }
   ],
   "source": [
    "artifact_v1.barh(\"Tier\")"
   ]
  },
  {
   "cell_type": "code",
   "execution_count": 28,
   "id": "82c7352f",
   "metadata": {},
   "outputs": [
    {
     "data": {
      "text/plain": [
       "4"
      ]
     },
     "execution_count": 28,
     "metadata": {},
     "output_type": "execute_result"
    }
   ],
   "source": [
    "percentile(48, np.arange(10))"
   ]
  },
  {
   "cell_type": "markdown",
   "id": "59975f25",
   "metadata": {},
   "source": [
    "# Building the Partnership Capacity Metric "
   ]
  },
  {
   "cell_type": "code",
   "execution_count": 29,
   "id": "6ae0254a",
   "metadata": {},
   "outputs": [],
   "source": [
    "#A measure of partnership capacity: PC = c_1(v_1) + c_2(v_2) + c_3(v_3) + ... + c_n(v_n)\n",
    "\n",
    "#Partnership Capacity is defined as a weighted linear combination of partner country tier standings (1-6)\n",
    "#for different military/economic/space attributes \n",
    "\n",
    "#Method for developing equivalent mode-based tiers:\n",
    "\n",
    "def tier_getter(tier, column):\n",
    "    upper = percentile((tier/6)*100, data_table.column(column))\n",
    "    lower = percentile(((tier-1)/6)*100, data_table.column(column))\n",
    "    countries = data_table.where(column, are.above(lower)).where(column, are.below_or_equal_to(upper)).column(\"CTYNAME\")\n",
    "    return np.append(countries, f\"tier {tier}\")\n",
    "\n",
    "\n",
    "def tier_finder_mb(country):\n",
    "    for i in np.arange(1,7):\n",
    "        array = tier_getter(i, \"Mil_Budget/GDP\")\n",
    "        if country in array:\n",
    "            return i\n",
    "    else:\n",
    "        return 1\n",
    "            \n",
    "\n",
    "        \n",
    "def tier_finder_opc(country):\n",
    "    for i in np.arange(1,7):\n",
    "        array = tier_getter(i, \"ORBITAL_PAYLOAD_COUNT\")\n",
    "        if country in array:\n",
    "            return i\n",
    "    else:\n",
    "        return 1\n",
    "    \n",
    "\n",
    "\n",
    "#Tier finder for Capability Proportions. Seperate code because this tier system is not mode-based so percentiles are mute.\n",
    "\n",
    "def tier_finder_cp(country):\n",
    "    prop_array = make_array(0,0.2,0.4,0.6,0.8,1)\n",
    "    tier_array = make_array(1,2,3,4,5,6)\n",
    "    item = data_table.where(\"CTYNAME\", are.equal_to(country)).column(\"Capability_Prop\").item(0)\n",
    "    index = (np.where(prop_array == item))[0].item(0)\n",
    "    return tier_array.item(index)\n"
   ]
  },
  {
   "cell_type": "code",
   "execution_count": 30,
   "id": "64cf9eb2",
   "metadata": {},
   "outputs": [
    {
     "data": {
      "text/html": [
       "<table border=\"1\" class=\"dataframe\">\n",
       "    <thead>\n",
       "        <tr>\n",
       "            <th>Country</th> <th>Partnership Capacity</th>\n",
       "        </tr>\n",
       "    </thead>\n",
       "    <tbody>\n",
       "        <tr>\n",
       "            <td>Australia     </td> <td>3.5                 </td>\n",
       "        </tr>\n",
       "        <tr>\n",
       "            <td>Belgium       </td> <td>1                   </td>\n",
       "        </tr>\n",
       "        <tr>\n",
       "            <td>Canada        </td> <td>3.9                 </td>\n",
       "        </tr>\n",
       "        <tr>\n",
       "            <td>Denmark       </td> <td>1.9                 </td>\n",
       "        </tr>\n",
       "        <tr>\n",
       "            <td>France        </td> <td>5.3                 </td>\n",
       "        </tr>\n",
       "        <tr>\n",
       "            <td>Germany       </td> <td>3.7                 </td>\n",
       "        </tr>\n",
       "        <tr>\n",
       "            <td>India         </td> <td>5.5                 </td>\n",
       "        </tr>\n",
       "        <tr>\n",
       "            <td>Israel        </td> <td>4.1                 </td>\n",
       "        </tr>\n",
       "        <tr>\n",
       "            <td>Italy         </td> <td>3.3                 </td>\n",
       "        </tr>\n",
       "        <tr>\n",
       "            <td>Japan         </td> <td>4                   </td>\n",
       "        </tr>\n",
       "        <tr>\n",
       "            <td>Korea, South  </td> <td>3.9                 </td>\n",
       "        </tr>\n",
       "        <tr>\n",
       "            <td>Luxembourg    </td> <td>1.8                 </td>\n",
       "        </tr>\n",
       "        <tr>\n",
       "            <td>Netherlands   </td> <td>1.5                 </td>\n",
       "        </tr>\n",
       "        <tr>\n",
       "            <td>New Zealand   </td> <td>1.8                 </td>\n",
       "        </tr>\n",
       "        <tr>\n",
       "            <td>Norway        </td> <td>3.3                 </td>\n",
       "        </tr>\n",
       "        <tr>\n",
       "            <td>Poland        </td> <td>2.3                 </td>\n",
       "        </tr>\n",
       "        <tr>\n",
       "            <td>Romania       </td> <td>1.8                 </td>\n",
       "        </tr>\n",
       "        <tr>\n",
       "            <td>Spain         </td> <td>4                   </td>\n",
       "        </tr>\n",
       "        <tr>\n",
       "            <td>Thailand      </td> <td>2.3                 </td>\n",
       "        </tr>\n",
       "        <tr>\n",
       "            <td>United Kingdom</td> <td>4.8                 </td>\n",
       "        </tr>\n",
       "    </tbody>\n",
       "</table>"
      ],
      "text/plain": [
       "<IPython.core.display.HTML object>"
      ]
     },
     "metadata": {},
     "output_type": "display_data"
    }
   ],
   "source": [
    "#Generating Partnership Capacity Table\n",
    "\n",
    "countries = data_table.column(\"CTYNAME\")\n",
    "p_capacity = make_array()\n",
    "for i in countries:\n",
    "    pc = partnership_capacity(i)\n",
    "    p_capacity = np.append(p_capacity, pc)\n",
    "\n",
    "Partnership_Capacity = Table().with_columns(\"Country\", countries, \"Partnership Capacity\", p_capacity)\n",
    "Partnership_Capacity.show()"
   ]
  },
  {
   "cell_type": "code",
   "execution_count": 31,
   "id": "70e749a6",
   "metadata": {},
   "outputs": [
    {
     "data": {
      "image/png": "[encoded data removed]",
      "text/plain": [
       "<Figure size 432x720 with 1 Axes>"
      ]
     },
     "metadata": {},
     "output_type": "display_data"
    }
   ],
   "source": [
    "Partnership_Capacity.barh(\"Country\")"
   ]
  },
  {
   "cell_type": "markdown",
   "id": "76ca11b1",
   "metadata": {},
   "source": [
    "# Adapting PC Metric to capture more pertinent space-faring attributes like Space Military Budget"
   ]
  },
  {
   "cell_type": "code",
   "execution_count": 35,
   "id": "3ca7356c",
   "metadata": {},
   "outputs": [],
   "source": [
    "#Attribute Formulation, Data Development, and Scripting for Teir Calculations\n",
    "\n",
    "#2017 Space Budgets as a share of GDP... from OECD\n",
    "\n",
    "sp_bud_values = make_array(\"AUS\", 0.049, 0.016, 0.016, 0.105, 0.047, 0.062, 0.040, 0.049, 0.070, \n",
    "                           0.039, 0.069, 0.018, \"NZL\", 0.035, 0.014, 0.025, 0.019, \"THLND\", 0.021)\n",
    "\n",
    "#Countries not listed either have space budget shares of their GDP less than (or around) 0.001% \n",
    "#or have not provided publicly accessible data.\n",
    "\n",
    "### By design, if we assign a value of 0.001% to countires lacking data from OECD, they will \n",
    "### automatically recieve tier 1 status ###\n",
    "\n",
    "sp_bud_values = make_array(0.001, 0.049, 0.016, 0.016, 0.105, 0.047, 0.062, 0.040, 0.049, 0.070, \n",
    "                           0.039, 0.069, 0.018, 0.001, 0.035, 0.014, 0.025, 0.019, 0.001, 0.021)\n",
    "\n",
    "data_table = data_table.with_columns(\"Space_Budget/GDP\", sp_bud_values)\n",
    "\n",
    "def tier_finder_spb(country):\n",
    "    for i in np.arange(1,7):\n",
    "        array = tier_getter(i, \"Space_Budget/GDP\")\n",
    "        if country in array:\n",
    "            return i\n",
    "    else:\n",
    "        return 1\n",
    "    \n",
    "#Array of weights corresponding to attribute priority level in the current order: Mil_Bud/GDP , Cap_Prop , OPC, Sp_Bud/GDP (%)\n",
    "\n",
    "array_of_weights_1 = make_array(0.2,0.5,0.3)\n",
    "\n",
    "array_of_weights_2 = make_array(0.15, 0.25, 0.3, 0.3)\n",
    "\n",
    "def partnership_capacity(country):\n",
    "    tier_array = make_array(tier_finder_mb(country), tier_finder_cp(country), tier_finder_opc(country), tier_finder_spb(country))\n",
    "    return sum(tier_array*array_of_weights_2)"
   ]
  },
  {
   "cell_type": "code",
   "execution_count": 36,
   "id": "fa62bae7",
   "metadata": {},
   "outputs": [
    {
     "data": {
      "text/html": [
       "<table border=\"1\" class=\"dataframe\">\n",
       "    <thead>\n",
       "        <tr>\n",
       "            <th>CTYNAME</th> <th>IYR</th> <th>EYR</th> <th>Mil_Budget/GDP</th> <th>SSA/SDA</th> <th>ISR</th> <th>PNT</th> <th>SATCOM</th> <th>Launch</th> <th>Capability_Prop</th> <th>ORBITAL_TOTAL_COUNT</th> <th>ORBITAL_PAYLOAD_COUNT</th> <th>ORBITAL_ROCKET_BODY_COUNT</th> <th>ORBITAL_DEBRIS_COUNT</th> <th>Space_Budget/GDP</th>\n",
       "        </tr>\n",
       "    </thead>\n",
       "    <tbody>\n",
       "        <tr>\n",
       "            <td>Australia     </td> <td>12466.5</td> <td>26453.9</td> <td>1.98          </td> <td>1      </td> <td>1   </td> <td>0   </td> <td>0     </td> <td>0     </td> <td>0.4            </td> <td>31                 </td> <td>29                   </td> <td>2                        </td> <td>0                   </td> <td>0.001           </td>\n",
       "        </tr>\n",
       "        <tr>\n",
       "            <td>Belgium       </td> <td>20996.1</td> <td>33721  </td> <td>1.07          </td> <td>0      </td> <td>0   </td> <td>0   </td> <td>0     </td> <td>0     </td> <td>0              </td> <td>6                  </td> <td>6                    </td> <td>0                        </td> <td>0                   </td> <td>0.049           </td>\n",
       "        </tr>\n",
       "        <tr>\n",
       "            <td>Canada        </td> <td>357788 </td> <td>307758 </td> <td>1.39          </td> <td>0      </td> <td>1   </td> <td>1   </td> <td>1     </td> <td>0     </td> <td>0.6            </td> <td>81                 </td> <td>76                   </td> <td>0                        </td> <td>5                   </td> <td>0.016           </td>\n",
       "        </tr>\n",
       "        <tr>\n",
       "            <td>Denmark       </td> <td>12108.4</td> <td>3543.82</td> <td>1.5           </td> <td>1      </td> <td>0   </td> <td>0   </td> <td>0     </td> <td>0     </td> <td>0.2            </td> <td>10                 </td> <td>10                   </td> <td>0                        </td> <td>0                   </td> <td>0.016           </td>\n",
       "        </tr>\n",
       "        <tr>\n",
       "            <td>France        </td> <td>50103.8</td> <td>29893.3</td> <td>1.9           </td> <td>1      </td> <td>1   </td> <td>1   </td> <td>1     </td> <td>1     </td> <td>1              </td> <td>599                </td> <td>82                   </td> <td>166                      </td> <td>351                 </td> <td>0.105           </td>\n",
       "        </tr>\n",
       "        <tr>\n",
       "            <td>Germany       </td> <td>135216 </td> <td>65332.5</td> <td>1.3           </td> <td>1      </td> <td>1   </td> <td>0   </td> <td>1     </td> <td>0     </td> <td>0.6            </td> <td>87                 </td> <td>86                   </td> <td>0                        </td> <td>1                   </td> <td>0.047           </td>\n",
       "        </tr>\n",
       "        <tr>\n",
       "            <td>India         </td> <td>73172.6</td> <td>40052.2</td> <td>2.9           </td> <td>0      </td> <td>1   </td> <td>1   </td> <td>1     </td> <td>1     </td> <td>0.8            </td> <td>221                </td> <td>108                  </td> <td>40                       </td> <td>73                  </td> <td>0.062           </td>\n",
       "        </tr>\n",
       "        <tr>\n",
       "            <td>Israel        </td> <td>18645.9</td> <td>12861.9</td> <td>5.2           </td> <td>0      </td> <td>1   </td> <td>0   </td> <td>1     </td> <td>1     </td> <td>0.6            </td> <td>22                 </td> <td>22                   </td> <td>0                        </td> <td>0                   </td> <td>0.04            </td>\n",
       "        </tr>\n",
       "        <tr>\n",
       "            <td>Italy         </td> <td>60950.8</td> <td>21660.5</td> <td>1.5           </td> <td>0      </td> <td>0   </td> <td>0   </td> <td>1     </td> <td>1     </td> <td>0.4            </td> <td>42                 </td> <td>40                   </td> <td>2                        </td> <td>0                   </td> <td>0.049           </td>\n",
       "        </tr>\n",
       "        <tr>\n",
       "            <td>Japan         </td> <td>134860 </td> <td>74564.7</td> <td>1.1           </td> <td>0      </td> <td>0   </td> <td>1   </td> <td>1     </td> <td>1     </td> <td>0.6            </td> <td>317                </td> <td>205                  </td> <td>62                       </td> <td>47                  </td> <td>0.07            </td>\n",
       "        </tr>\n",
       "        <tr>\n",
       "            <td>Korea, South  </td> <td>94918.6</td> <td>65942.4</td> <td>2.9           </td> <td>0      </td> <td>0   </td> <td>0   </td> <td>1     </td> <td>1     </td> <td>0.4            </td> <td>35                 </td> <td>33                   </td> <td>2                        </td> <td>0                   </td> <td>0.039           </td>\n",
       "        </tr>\n",
       "        <tr>\n",
       "            <td>Luxembourg    </td> <td>592.584</td> <td>1531.48</td> <td>0.57          </td> <td>1      </td> <td>0   </td> <td>0   </td> <td>0     </td> <td>0     </td> <td>0.2            </td> <td>13                 </td> <td>13                   </td> <td>0                        </td> <td>0                   </td> <td>0.069           </td>\n",
       "        </tr>\n",
       "        <tr>\n",
       "            <td>Netherlands   </td> <td>35105.4</td> <td>53080.1</td> <td>1.4           </td> <td>0      </td> <td>0   </td> <td>0   </td> <td>0     </td> <td>0     </td> <td>0              </td> <td>12                 </td> <td>12                   </td> <td>0                        </td> <td>0                   </td> <td>0.018           </td>\n",
       "        </tr>\n",
       "        <tr>\n",
       "            <td>New Zealand   </td> <td>4948.87</td> <td>3724.04</td> <td>1.4           </td> <td>0      </td> <td>0   </td> <td>0   </td> <td>0     </td> <td>0     </td> <td>0              </td> <td>20                 </td> <td>20                   </td> <td>0                        </td> <td>0                   </td> <td>0.001           </td>\n",
       "        </tr>\n",
       "        <tr>\n",
       "            <td>Norway        </td> <td>6732.06</td> <td>3956.31</td> <td>1.4           </td> <td>1      </td> <td>0   </td> <td>0   </td> <td>1     </td> <td>1     </td> <td>0.6            </td> <td>14                 </td> <td>14                   </td> <td>0                        </td> <td>0                   </td> <td>0.035           </td>\n",
       "        </tr>\n",
       "        <tr>\n",
       "            <td>Poland        </td> <td>9740.59</td> <td>5843.13</td> <td>2.2           </td> <td>1      </td> <td>0   </td> <td>0   </td> <td>0     </td> <td>0     </td> <td>0.2            </td> <td>10                 </td> <td>10                   </td> <td>0                        </td> <td>0                   </td> <td>0.014           </td>\n",
       "        </tr>\n",
       "        <tr>\n",
       "            <td>Romania       </td> <td>2916.37</td> <td>1411.72</td> <td>2             </td> <td>0      </td> <td>0   </td> <td>0   </td> <td>0     </td> <td>0     </td> <td>0              </td> <td>0                  </td> <td>0                    </td> <td>0                        </td> <td>0                   </td> <td>0.025           </td>\n",
       "        </tr>\n",
       "        <tr>\n",
       "            <td>Spain         </td> <td>18586.2</td> <td>16332.1</td> <td>1.8           </td> <td>1      </td> <td>1   </td> <td>0   </td> <td>1     </td> <td>0     </td> <td>0.6            </td> <td>44                 </td> <td>44                   </td> <td>0                        </td> <td>0                   </td> <td>0.019           </td>\n",
       "        </tr>\n",
       "        <tr>\n",
       "            <td>Thailand      </td> <td>47350.6</td> <td>12652.4</td> <td>1.3           </td> <td>1      </td> <td>0   </td> <td>0   </td> <td>1     </td> <td>0     </td> <td>0.4            </td> <td>13                 </td> <td>13                   </td> <td>0                        </td> <td>0                   </td> <td>0.001           </td>\n",
       "        </tr>\n",
       "        <tr>\n",
       "            <td>United Kingdom</td> <td>56364.2</td> <td>61425.1</td> <td>2.2           </td> <td>1      </td> <td>0   </td> <td>0   </td> <td>1     </td> <td>1     </td> <td>0.6            </td> <td>481                </td> <td>480                  </td> <td>1                        </td> <td>0                   </td> <td>0.021           </td>\n",
       "        </tr>\n",
       "    </tbody>\n",
       "</table>"
      ],
      "text/plain": [
       "<IPython.core.display.HTML object>"
      ]
     },
     "metadata": {},
     "output_type": "display_data"
    }
   ],
   "source": [
    "data_table.show()"
   ]
  },
  {
   "cell_type": "code",
   "execution_count": 37,
   "id": "25fb62ca",
   "metadata": {},
   "outputs": [
    {
     "data": {
      "text/html": [
       "<table border=\"1\" class=\"dataframe\">\n",
       "    <thead>\n",
       "        <tr>\n",
       "            <th>Country</th> <th>Partnership Capacity</th>\n",
       "        </tr>\n",
       "    </thead>\n",
       "    <tbody>\n",
       "        <tr>\n",
       "            <td>Australia     </td> <td>2.85                </td>\n",
       "        </tr>\n",
       "        <tr>\n",
       "            <td>Belgium       </td> <td>2.2                 </td>\n",
       "        </tr>\n",
       "        <tr>\n",
       "            <td>Canada        </td> <td>3.4                 </td>\n",
       "        </tr>\n",
       "        <tr>\n",
       "            <td>Denmark       </td> <td>1.85                </td>\n",
       "        </tr>\n",
       "        <tr>\n",
       "            <td>France        </td> <td>5.4                 </td>\n",
       "        </tr>\n",
       "        <tr>\n",
       "            <td>Germany       </td> <td>3.85                </td>\n",
       "        </tr>\n",
       "        <tr>\n",
       "            <td>India         </td> <td>5.45                </td>\n",
       "        </tr>\n",
       "        <tr>\n",
       "            <td>Israel        </td> <td>4                   </td>\n",
       "        </tr>\n",
       "        <tr>\n",
       "            <td>Italy         </td> <td>3.9                 </td>\n",
       "        </tr>\n",
       "        <tr>\n",
       "            <td>Japan         </td> <td>4.75                </td>\n",
       "        </tr>\n",
       "        <tr>\n",
       "            <td>Korea, South  </td> <td>4.05                </td>\n",
       "        </tr>\n",
       "        <tr>\n",
       "            <td>Luxembourg    </td> <td>3.05                </td>\n",
       "        </tr>\n",
       "        <tr>\n",
       "            <td>Netherlands   </td> <td>1.75                </td>\n",
       "        </tr>\n",
       "        <tr>\n",
       "            <td>New Zealand   </td> <td>1.75                </td>\n",
       "        </tr>\n",
       "        <tr>\n",
       "            <td>Norway        </td> <td>3.4                 </td>\n",
       "        </tr>\n",
       "        <tr>\n",
       "            <td>Poland        </td> <td>1.85                </td>\n",
       "        </tr>\n",
       "        <tr>\n",
       "            <td>Romania       </td> <td>2.2                 </td>\n",
       "        </tr>\n",
       "        <tr>\n",
       "            <td>Spain         </td> <td>3.7                 </td>\n",
       "        </tr>\n",
       "        <tr>\n",
       "            <td>Thailand      </td> <td>1.8                 </td>\n",
       "        </tr>\n",
       "        <tr>\n",
       "            <td>United Kingdom</td> <td>4.45                </td>\n",
       "        </tr>\n",
       "    </tbody>\n",
       "</table>"
      ],
      "text/plain": [
       "<IPython.core.display.HTML object>"
      ]
     },
     "metadata": {},
     "output_type": "display_data"
    }
   ],
   "source": [
    "#Generating Partnership Capacity Table V.2\n",
    "\n",
    "countries = data_table.column(\"CTYNAME\")\n",
    "p_capacity = make_array()\n",
    "for i in countries:\n",
    "    pc = partnership_capacity(i)\n",
    "    p_capacity = np.append(p_capacity, pc)\n",
    "\n",
    "Partnership_Capacity_2 = Table().with_columns(\"Country\", countries, \"Partnership Capacity\", p_capacity)\n",
    "Partnership_Capacity_2.show()"
   ]
  },
  {
   "cell_type": "code",
   "execution_count": 38,
   "id": "f4562209",
   "metadata": {},
   "outputs": [
    {
     "data": {
      "image/png": "[encoded data removed]",
      "text/plain": [
       "<Figure size 432x720 with 1 Axes>"
      ]
     },
     "metadata": {},
     "output_type": "display_data"
    }
   ],
   "source": [
    "Partnership_Capacity_2.barh(\"Country\")"
   ]
  }
 ],
 "metadata": {
  "kernelspec": {
   "display_name": "Python 3 (ipykernel)",
   "language": "python",
   "name": "python3"
  },
  "language_info": {
   "codemirror_mode": {
    "name": "ipython",
    "version": 3
   },
   "file_extension": ".py",
   "mimetype": "text/x-python",
   "name": "python",
   "nbconvert_exporter": "python",
   "pygments_lexer": "ipython3",
   "version": "3.9.12"
  }
 },
 "nbformat": 4,
 "nbformat_minor": 5
}
